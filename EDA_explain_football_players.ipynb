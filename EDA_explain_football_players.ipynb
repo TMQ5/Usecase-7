{
  "cells": [
    {
      "cell_type": "code",
      "source": [
        "# ! pip install ydata_profiling"
      ],
      "metadata": {
        "id": "PiGiYTpkTPPe"
      },
      "id": "PiGiYTpkTPPe",
      "execution_count": 193,
      "outputs": []
    },
    {
      "cell_type": "code",
      "execution_count": 194,
      "id": "e69c4ba1-85f3-4a02-ae37-c64347a01803",
      "metadata": {
        "id": "e69c4ba1-85f3-4a02-ae37-c64347a01803"
      },
      "outputs": [],
      "source": [
        "# To ignore warnings\n",
        "import warnings\n",
        "warnings.filterwarnings(\"ignore\")\n",
        "\n",
        "#Import all relevant libraries\n",
        "import pandas as pd\n",
        "import numpy as np\n",
        "import matplotlib.pyplot as plt\n",
        "import seaborn as sns\n",
        "\n",
        "# from ydata_profiling import ProfileReport\n",
        "# from pandas_profiling import ProfileReport\n",
        "# from google.colab import files\n",
        "\n",
        "from sklearn.model_selection import train_test_split\n",
        "from sklearn.metrics import mean_squared_error, r2_score, mean_absolute_error\n",
        "from sklearn.preprocessing import StandardScaler\n",
        "from sklearn.linear_model import LinearRegression\n",
        "from sklearn.ensemble import RandomForestRegressor\n",
        "from sklearn.preprocessing import PolynomialFeatures\n",
        "from sklearn.tree import DecisionTreeRegressor\n",
        "from sklearn.ensemble import GradientBoostingRegressor\n",
        "\n",
        "from sklearn import metrics\n",
        "from sklearn.preprocessing import LabelEncoder, OneHotEncoder\n",
        "from sklearn.metrics import mean_squared_error, r2_score\n",
        "\n",
        "\n",
        "## This statement allows the visuals to render within your Jupyter Notebook.\n",
        "%matplotlib inline"
      ]
    },
    {
      "cell_type": "markdown",
      "id": "e395e8bf-b530-4720-8d0f-26811e927d6e",
      "metadata": {
        "id": "e395e8bf-b530-4720-8d0f-26811e927d6e"
      },
      "source": [
        "## Loading the data\n",
        "We can now load the dataset into pandas using the read_csv() function. This converts the CSV file into a Pandas dataframe."
      ]
    },
    {
      "cell_type": "code",
      "execution_count": 195,
      "id": "cf4030b0-aa7f-4bd7-8e9c-c1b7f4d202d0",
      "metadata": {
        "id": "cf4030b0-aa7f-4bd7-8e9c-c1b7f4d202d0"
      },
      "outputs": [],
      "source": [
        "#Read in the csv file and convert to a Pandas dataframe\n",
        "df = pd.read_csv('final_data.csv')"
      ]
    },
    {
      "cell_type": "code",
      "source": [
        "# profile = ProfileReport(df, explorative=True)  # Create profile report\n",
        "# profile.to_file(\"report.html\")  # Save as an interactive HTML file\n",
        "# files.download(\"report.html\") # Download the HTML report file  into local machine"
      ],
      "metadata": {
        "id": "75ctoKjMTYFA"
      },
      "id": "75ctoKjMTYFA",
      "execution_count": 196,
      "outputs": []
    },
    {
      "cell_type": "markdown",
      "id": "ca5ed983-0f72-43eb-8168-6fafd48c562e",
      "metadata": {
        "id": "ca5ed983-0f72-43eb-8168-6fafd48c562e"
      },
      "source": [
        "### Viewing the dataframe\n",
        "We can get a quick sense of the size of our dataset by using the shape method. This returns a tuple with the number of rows and columns in the dataset."
      ]
    },
    {
      "cell_type": "code",
      "execution_count": 197,
      "id": "bfde0b69-613c-4dd1-8ebf-e4d2e570e653",
      "metadata": {
        "colab": {
          "base_uri": "https://localhost:8080/",
          "height": 262
        },
        "id": "bfde0b69-613c-4dd1-8ebf-e4d2e570e653",
        "outputId": "189639d2-4b53-4389-d9ca-99b3cf9cec58"
      },
      "outputs": [
        {
          "output_type": "execute_result",
          "data": {
            "text/plain": [
              "                                player               team          name  \\\n",
              "0   /david-de-gea/profil/spieler/59377  Manchester United  David de Gea   \n",
              "1  /jack-butland/profil/spieler/128899  Manchester United  Jack Butland   \n",
              "2     /tom-heaton/profil/spieler/34130  Manchester United    Tom Heaton   \n",
              "\n",
              "     position  height   age  appearance  goals  assists  yellow cards  ...  \\\n",
              "0  Goalkeeper   189.0  32.0         104    0.0      0.0      0.009585  ...   \n",
              "1  Goalkeeper   196.0  30.0          15    0.0      0.0      0.069018  ...   \n",
              "2  Goalkeeper   188.0  37.0           4    0.0      0.0      0.000000  ...   \n",
              "\n",
              "   goals conceded  clean sheets  minutes played  days_injured  games_injured  \\\n",
              "0        1.217252      0.335463            9390            42              5   \n",
              "1        1.242331      0.207055            1304           510             58   \n",
              "2        0.616438      0.924658             292           697             84   \n",
              "\n",
              "   award  current_value  highest_value  position_encoded  winger  \n",
              "0     13       15000000       70000000                 1       0  \n",
              "1      1        1500000       22000000                 1       0  \n",
              "2      4         600000        6000000                 1       0  \n",
              "\n",
              "[3 rows x 22 columns]"
            ],
            "text/html": [
              "\n",
              "  <div id=\"df-0384c82c-4d48-473e-9d97-0c0d3e45d33b\" class=\"colab-df-container\">\n",
              "    <div>\n",
              "<style scoped>\n",
              "    .dataframe tbody tr th:only-of-type {\n",
              "        vertical-align: middle;\n",
              "    }\n",
              "\n",
              "    .dataframe tbody tr th {\n",
              "        vertical-align: top;\n",
              "    }\n",
              "\n",
              "    .dataframe thead th {\n",
              "        text-align: right;\n",
              "    }\n",
              "</style>\n",
              "<table border=\"1\" class=\"dataframe\">\n",
              "  <thead>\n",
              "    <tr style=\"text-align: right;\">\n",
              "      <th></th>\n",
              "      <th>player</th>\n",
              "      <th>team</th>\n",
              "      <th>name</th>\n",
              "      <th>position</th>\n",
              "      <th>height</th>\n",
              "      <th>age</th>\n",
              "      <th>appearance</th>\n",
              "      <th>goals</th>\n",
              "      <th>assists</th>\n",
              "      <th>yellow cards</th>\n",
              "      <th>...</th>\n",
              "      <th>goals conceded</th>\n",
              "      <th>clean sheets</th>\n",
              "      <th>minutes played</th>\n",
              "      <th>days_injured</th>\n",
              "      <th>games_injured</th>\n",
              "      <th>award</th>\n",
              "      <th>current_value</th>\n",
              "      <th>highest_value</th>\n",
              "      <th>position_encoded</th>\n",
              "      <th>winger</th>\n",
              "    </tr>\n",
              "  </thead>\n",
              "  <tbody>\n",
              "    <tr>\n",
              "      <th>0</th>\n",
              "      <td>/david-de-gea/profil/spieler/59377</td>\n",
              "      <td>Manchester United</td>\n",
              "      <td>David de Gea</td>\n",
              "      <td>Goalkeeper</td>\n",
              "      <td>189.0</td>\n",
              "      <td>32.0</td>\n",
              "      <td>104</td>\n",
              "      <td>0.0</td>\n",
              "      <td>0.0</td>\n",
              "      <td>0.009585</td>\n",
              "      <td>...</td>\n",
              "      <td>1.217252</td>\n",
              "      <td>0.335463</td>\n",
              "      <td>9390</td>\n",
              "      <td>42</td>\n",
              "      <td>5</td>\n",
              "      <td>13</td>\n",
              "      <td>15000000</td>\n",
              "      <td>70000000</td>\n",
              "      <td>1</td>\n",
              "      <td>0</td>\n",
              "    </tr>\n",
              "    <tr>\n",
              "      <th>1</th>\n",
              "      <td>/jack-butland/profil/spieler/128899</td>\n",
              "      <td>Manchester United</td>\n",
              "      <td>Jack Butland</td>\n",
              "      <td>Goalkeeper</td>\n",
              "      <td>196.0</td>\n",
              "      <td>30.0</td>\n",
              "      <td>15</td>\n",
              "      <td>0.0</td>\n",
              "      <td>0.0</td>\n",
              "      <td>0.069018</td>\n",
              "      <td>...</td>\n",
              "      <td>1.242331</td>\n",
              "      <td>0.207055</td>\n",
              "      <td>1304</td>\n",
              "      <td>510</td>\n",
              "      <td>58</td>\n",
              "      <td>1</td>\n",
              "      <td>1500000</td>\n",
              "      <td>22000000</td>\n",
              "      <td>1</td>\n",
              "      <td>0</td>\n",
              "    </tr>\n",
              "    <tr>\n",
              "      <th>2</th>\n",
              "      <td>/tom-heaton/profil/spieler/34130</td>\n",
              "      <td>Manchester United</td>\n",
              "      <td>Tom Heaton</td>\n",
              "      <td>Goalkeeper</td>\n",
              "      <td>188.0</td>\n",
              "      <td>37.0</td>\n",
              "      <td>4</td>\n",
              "      <td>0.0</td>\n",
              "      <td>0.0</td>\n",
              "      <td>0.000000</td>\n",
              "      <td>...</td>\n",
              "      <td>0.616438</td>\n",
              "      <td>0.924658</td>\n",
              "      <td>292</td>\n",
              "      <td>697</td>\n",
              "      <td>84</td>\n",
              "      <td>4</td>\n",
              "      <td>600000</td>\n",
              "      <td>6000000</td>\n",
              "      <td>1</td>\n",
              "      <td>0</td>\n",
              "    </tr>\n",
              "  </tbody>\n",
              "</table>\n",
              "<p>3 rows × 22 columns</p>\n",
              "</div>\n",
              "    <div class=\"colab-df-buttons\">\n",
              "\n",
              "  <div class=\"colab-df-container\">\n",
              "    <button class=\"colab-df-convert\" onclick=\"convertToInteractive('df-0384c82c-4d48-473e-9d97-0c0d3e45d33b')\"\n",
              "            title=\"Convert this dataframe to an interactive table.\"\n",
              "            style=\"display:none;\">\n",
              "\n",
              "  <svg xmlns=\"http://www.w3.org/2000/svg\" height=\"24px\" viewBox=\"0 -960 960 960\">\n",
              "    <path d=\"M120-120v-720h720v720H120Zm60-500h600v-160H180v160Zm220 220h160v-160H400v160Zm0 220h160v-160H400v160ZM180-400h160v-160H180v160Zm440 0h160v-160H620v160ZM180-180h160v-160H180v160Zm440 0h160v-160H620v160Z\"/>\n",
              "  </svg>\n",
              "    </button>\n",
              "\n",
              "  <style>\n",
              "    .colab-df-container {\n",
              "      display:flex;\n",
              "      gap: 12px;\n",
              "    }\n",
              "\n",
              "    .colab-df-convert {\n",
              "      background-color: #E8F0FE;\n",
              "      border: none;\n",
              "      border-radius: 50%;\n",
              "      cursor: pointer;\n",
              "      display: none;\n",
              "      fill: #1967D2;\n",
              "      height: 32px;\n",
              "      padding: 0 0 0 0;\n",
              "      width: 32px;\n",
              "    }\n",
              "\n",
              "    .colab-df-convert:hover {\n",
              "      background-color: #E2EBFA;\n",
              "      box-shadow: 0px 1px 2px rgba(60, 64, 67, 0.3), 0px 1px 3px 1px rgba(60, 64, 67, 0.15);\n",
              "      fill: #174EA6;\n",
              "    }\n",
              "\n",
              "    .colab-df-buttons div {\n",
              "      margin-bottom: 4px;\n",
              "    }\n",
              "\n",
              "    [theme=dark] .colab-df-convert {\n",
              "      background-color: #3B4455;\n",
              "      fill: #D2E3FC;\n",
              "    }\n",
              "\n",
              "    [theme=dark] .colab-df-convert:hover {\n",
              "      background-color: #434B5C;\n",
              "      box-shadow: 0px 1px 3px 1px rgba(0, 0, 0, 0.15);\n",
              "      filter: drop-shadow(0px 1px 2px rgba(0, 0, 0, 0.3));\n",
              "      fill: #FFFFFF;\n",
              "    }\n",
              "  </style>\n",
              "\n",
              "    <script>\n",
              "      const buttonEl =\n",
              "        document.querySelector('#df-0384c82c-4d48-473e-9d97-0c0d3e45d33b button.colab-df-convert');\n",
              "      buttonEl.style.display =\n",
              "        google.colab.kernel.accessAllowed ? 'block' : 'none';\n",
              "\n",
              "      async function convertToInteractive(key) {\n",
              "        const element = document.querySelector('#df-0384c82c-4d48-473e-9d97-0c0d3e45d33b');\n",
              "        const dataTable =\n",
              "          await google.colab.kernel.invokeFunction('convertToInteractive',\n",
              "                                                    [key], {});\n",
              "        if (!dataTable) return;\n",
              "\n",
              "        const docLinkHtml = 'Like what you see? Visit the ' +\n",
              "          '<a target=\"_blank\" href=https://colab.research.google.com/notebooks/data_table.ipynb>data table notebook</a>'\n",
              "          + ' to learn more about interactive tables.';\n",
              "        element.innerHTML = '';\n",
              "        dataTable['output_type'] = 'display_data';\n",
              "        await google.colab.output.renderOutput(dataTable, element);\n",
              "        const docLink = document.createElement('div');\n",
              "        docLink.innerHTML = docLinkHtml;\n",
              "        element.appendChild(docLink);\n",
              "      }\n",
              "    </script>\n",
              "  </div>\n",
              "\n",
              "\n",
              "<div id=\"df-8d5e4e98-c63c-4eda-815a-b67f40edbcc3\">\n",
              "  <button class=\"colab-df-quickchart\" onclick=\"quickchart('df-8d5e4e98-c63c-4eda-815a-b67f40edbcc3')\"\n",
              "            title=\"Suggest charts\"\n",
              "            style=\"display:none;\">\n",
              "\n",
              "<svg xmlns=\"http://www.w3.org/2000/svg\" height=\"24px\"viewBox=\"0 0 24 24\"\n",
              "     width=\"24px\">\n",
              "    <g>\n",
              "        <path d=\"M19 3H5c-1.1 0-2 .9-2 2v14c0 1.1.9 2 2 2h14c1.1 0 2-.9 2-2V5c0-1.1-.9-2-2-2zM9 17H7v-7h2v7zm4 0h-2V7h2v10zm4 0h-2v-4h2v4z\"/>\n",
              "    </g>\n",
              "</svg>\n",
              "  </button>\n",
              "\n",
              "<style>\n",
              "  .colab-df-quickchart {\n",
              "      --bg-color: #E8F0FE;\n",
              "      --fill-color: #1967D2;\n",
              "      --hover-bg-color: #E2EBFA;\n",
              "      --hover-fill-color: #174EA6;\n",
              "      --disabled-fill-color: #AAA;\n",
              "      --disabled-bg-color: #DDD;\n",
              "  }\n",
              "\n",
              "  [theme=dark] .colab-df-quickchart {\n",
              "      --bg-color: #3B4455;\n",
              "      --fill-color: #D2E3FC;\n",
              "      --hover-bg-color: #434B5C;\n",
              "      --hover-fill-color: #FFFFFF;\n",
              "      --disabled-bg-color: #3B4455;\n",
              "      --disabled-fill-color: #666;\n",
              "  }\n",
              "\n",
              "  .colab-df-quickchart {\n",
              "    background-color: var(--bg-color);\n",
              "    border: none;\n",
              "    border-radius: 50%;\n",
              "    cursor: pointer;\n",
              "    display: none;\n",
              "    fill: var(--fill-color);\n",
              "    height: 32px;\n",
              "    padding: 0;\n",
              "    width: 32px;\n",
              "  }\n",
              "\n",
              "  .colab-df-quickchart:hover {\n",
              "    background-color: var(--hover-bg-color);\n",
              "    box-shadow: 0 1px 2px rgba(60, 64, 67, 0.3), 0 1px 3px 1px rgba(60, 64, 67, 0.15);\n",
              "    fill: var(--button-hover-fill-color);\n",
              "  }\n",
              "\n",
              "  .colab-df-quickchart-complete:disabled,\n",
              "  .colab-df-quickchart-complete:disabled:hover {\n",
              "    background-color: var(--disabled-bg-color);\n",
              "    fill: var(--disabled-fill-color);\n",
              "    box-shadow: none;\n",
              "  }\n",
              "\n",
              "  .colab-df-spinner {\n",
              "    border: 2px solid var(--fill-color);\n",
              "    border-color: transparent;\n",
              "    border-bottom-color: var(--fill-color);\n",
              "    animation:\n",
              "      spin 1s steps(1) infinite;\n",
              "  }\n",
              "\n",
              "  @keyframes spin {\n",
              "    0% {\n",
              "      border-color: transparent;\n",
              "      border-bottom-color: var(--fill-color);\n",
              "      border-left-color: var(--fill-color);\n",
              "    }\n",
              "    20% {\n",
              "      border-color: transparent;\n",
              "      border-left-color: var(--fill-color);\n",
              "      border-top-color: var(--fill-color);\n",
              "    }\n",
              "    30% {\n",
              "      border-color: transparent;\n",
              "      border-left-color: var(--fill-color);\n",
              "      border-top-color: var(--fill-color);\n",
              "      border-right-color: var(--fill-color);\n",
              "    }\n",
              "    40% {\n",
              "      border-color: transparent;\n",
              "      border-right-color: var(--fill-color);\n",
              "      border-top-color: var(--fill-color);\n",
              "    }\n",
              "    60% {\n",
              "      border-color: transparent;\n",
              "      border-right-color: var(--fill-color);\n",
              "    }\n",
              "    80% {\n",
              "      border-color: transparent;\n",
              "      border-right-color: var(--fill-color);\n",
              "      border-bottom-color: var(--fill-color);\n",
              "    }\n",
              "    90% {\n",
              "      border-color: transparent;\n",
              "      border-bottom-color: var(--fill-color);\n",
              "    }\n",
              "  }\n",
              "</style>\n",
              "\n",
              "  <script>\n",
              "    async function quickchart(key) {\n",
              "      const quickchartButtonEl =\n",
              "        document.querySelector('#' + key + ' button');\n",
              "      quickchartButtonEl.disabled = true;  // To prevent multiple clicks.\n",
              "      quickchartButtonEl.classList.add('colab-df-spinner');\n",
              "      try {\n",
              "        const charts = await google.colab.kernel.invokeFunction(\n",
              "            'suggestCharts', [key], {});\n",
              "      } catch (error) {\n",
              "        console.error('Error during call to suggestCharts:', error);\n",
              "      }\n",
              "      quickchartButtonEl.classList.remove('colab-df-spinner');\n",
              "      quickchartButtonEl.classList.add('colab-df-quickchart-complete');\n",
              "    }\n",
              "    (() => {\n",
              "      let quickchartButtonEl =\n",
              "        document.querySelector('#df-8d5e4e98-c63c-4eda-815a-b67f40edbcc3 button');\n",
              "      quickchartButtonEl.style.display =\n",
              "        google.colab.kernel.accessAllowed ? 'block' : 'none';\n",
              "    })();\n",
              "  </script>\n",
              "</div>\n",
              "\n",
              "    </div>\n",
              "  </div>\n"
            ],
            "application/vnd.google.colaboratory.intrinsic+json": {
              "type": "dataframe",
              "variable_name": "df"
            }
          },
          "metadata": {},
          "execution_count": 197
        }
      ],
      "source": [
        "# Display the first 3 rows of the DataFtrame\n",
        "df.head(3)"
      ]
    },
    {
      "cell_type": "markdown",
      "id": "bd2b5bc4-db37-4432-b666-0714afd0c4ca",
      "metadata": {
        "id": "bd2b5bc4-db37-4432-b666-0714afd0c4ca"
      },
      "source": [
        "## 1. Data Profiling:\n",
        "Data profiling is a comprehensive process of examining the data available in an existing dataset and collecting statistics and information about that data."
      ]
    },
    {
      "cell_type": "code",
      "execution_count": 198,
      "id": "672f2081-5a2c-4908-8cbd-29519fb3cac5",
      "metadata": {
        "colab": {
          "base_uri": "https://localhost:8080/",
          "height": 262
        },
        "id": "672f2081-5a2c-4908-8cbd-29519fb3cac5",
        "outputId": "901b175b-9fbe-4fd0-a6f3-2ffef003d114"
      },
      "outputs": [
        {
          "output_type": "execute_result",
          "data": {
            "text/plain": [
              "                                player               team          name  \\\n",
              "0   /david-de-gea/profil/spieler/59377  Manchester United  David de Gea   \n",
              "1  /jack-butland/profil/spieler/128899  Manchester United  Jack Butland   \n",
              "2     /tom-heaton/profil/spieler/34130  Manchester United    Tom Heaton   \n",
              "\n",
              "     position  height   age  appearance  goals  assists  yellow cards  ...  \\\n",
              "0  Goalkeeper   189.0  32.0         104    0.0      0.0      0.009585  ...   \n",
              "1  Goalkeeper   196.0  30.0          15    0.0      0.0      0.069018  ...   \n",
              "2  Goalkeeper   188.0  37.0           4    0.0      0.0      0.000000  ...   \n",
              "\n",
              "   goals conceded  clean sheets  minutes played  days_injured  games_injured  \\\n",
              "0        1.217252      0.335463            9390            42              5   \n",
              "1        1.242331      0.207055            1304           510             58   \n",
              "2        0.616438      0.924658             292           697             84   \n",
              "\n",
              "   award  current_value  highest_value  position_encoded  winger  \n",
              "0     13       15000000       70000000                 1       0  \n",
              "1      1        1500000       22000000                 1       0  \n",
              "2      4         600000        6000000                 1       0  \n",
              "\n",
              "[3 rows x 22 columns]"
            ],
            "text/html": [
              "\n",
              "  <div id=\"df-5acc2c2b-80cb-4303-8b60-9e81a6462012\" class=\"colab-df-container\">\n",
              "    <div>\n",
              "<style scoped>\n",
              "    .dataframe tbody tr th:only-of-type {\n",
              "        vertical-align: middle;\n",
              "    }\n",
              "\n",
              "    .dataframe tbody tr th {\n",
              "        vertical-align: top;\n",
              "    }\n",
              "\n",
              "    .dataframe thead th {\n",
              "        text-align: right;\n",
              "    }\n",
              "</style>\n",
              "<table border=\"1\" class=\"dataframe\">\n",
              "  <thead>\n",
              "    <tr style=\"text-align: right;\">\n",
              "      <th></th>\n",
              "      <th>player</th>\n",
              "      <th>team</th>\n",
              "      <th>name</th>\n",
              "      <th>position</th>\n",
              "      <th>height</th>\n",
              "      <th>age</th>\n",
              "      <th>appearance</th>\n",
              "      <th>goals</th>\n",
              "      <th>assists</th>\n",
              "      <th>yellow cards</th>\n",
              "      <th>...</th>\n",
              "      <th>goals conceded</th>\n",
              "      <th>clean sheets</th>\n",
              "      <th>minutes played</th>\n",
              "      <th>days_injured</th>\n",
              "      <th>games_injured</th>\n",
              "      <th>award</th>\n",
              "      <th>current_value</th>\n",
              "      <th>highest_value</th>\n",
              "      <th>position_encoded</th>\n",
              "      <th>winger</th>\n",
              "    </tr>\n",
              "  </thead>\n",
              "  <tbody>\n",
              "    <tr>\n",
              "      <th>0</th>\n",
              "      <td>/david-de-gea/profil/spieler/59377</td>\n",
              "      <td>Manchester United</td>\n",
              "      <td>David de Gea</td>\n",
              "      <td>Goalkeeper</td>\n",
              "      <td>189.0</td>\n",
              "      <td>32.0</td>\n",
              "      <td>104</td>\n",
              "      <td>0.0</td>\n",
              "      <td>0.0</td>\n",
              "      <td>0.009585</td>\n",
              "      <td>...</td>\n",
              "      <td>1.217252</td>\n",
              "      <td>0.335463</td>\n",
              "      <td>9390</td>\n",
              "      <td>42</td>\n",
              "      <td>5</td>\n",
              "      <td>13</td>\n",
              "      <td>15000000</td>\n",
              "      <td>70000000</td>\n",
              "      <td>1</td>\n",
              "      <td>0</td>\n",
              "    </tr>\n",
              "    <tr>\n",
              "      <th>1</th>\n",
              "      <td>/jack-butland/profil/spieler/128899</td>\n",
              "      <td>Manchester United</td>\n",
              "      <td>Jack Butland</td>\n",
              "      <td>Goalkeeper</td>\n",
              "      <td>196.0</td>\n",
              "      <td>30.0</td>\n",
              "      <td>15</td>\n",
              "      <td>0.0</td>\n",
              "      <td>0.0</td>\n",
              "      <td>0.069018</td>\n",
              "      <td>...</td>\n",
              "      <td>1.242331</td>\n",
              "      <td>0.207055</td>\n",
              "      <td>1304</td>\n",
              "      <td>510</td>\n",
              "      <td>58</td>\n",
              "      <td>1</td>\n",
              "      <td>1500000</td>\n",
              "      <td>22000000</td>\n",
              "      <td>1</td>\n",
              "      <td>0</td>\n",
              "    </tr>\n",
              "    <tr>\n",
              "      <th>2</th>\n",
              "      <td>/tom-heaton/profil/spieler/34130</td>\n",
              "      <td>Manchester United</td>\n",
              "      <td>Tom Heaton</td>\n",
              "      <td>Goalkeeper</td>\n",
              "      <td>188.0</td>\n",
              "      <td>37.0</td>\n",
              "      <td>4</td>\n",
              "      <td>0.0</td>\n",
              "      <td>0.0</td>\n",
              "      <td>0.000000</td>\n",
              "      <td>...</td>\n",
              "      <td>0.616438</td>\n",
              "      <td>0.924658</td>\n",
              "      <td>292</td>\n",
              "      <td>697</td>\n",
              "      <td>84</td>\n",
              "      <td>4</td>\n",
              "      <td>600000</td>\n",
              "      <td>6000000</td>\n",
              "      <td>1</td>\n",
              "      <td>0</td>\n",
              "    </tr>\n",
              "  </tbody>\n",
              "</table>\n",
              "<p>3 rows × 22 columns</p>\n",
              "</div>\n",
              "    <div class=\"colab-df-buttons\">\n",
              "\n",
              "  <div class=\"colab-df-container\">\n",
              "    <button class=\"colab-df-convert\" onclick=\"convertToInteractive('df-5acc2c2b-80cb-4303-8b60-9e81a6462012')\"\n",
              "            title=\"Convert this dataframe to an interactive table.\"\n",
              "            style=\"display:none;\">\n",
              "\n",
              "  <svg xmlns=\"http://www.w3.org/2000/svg\" height=\"24px\" viewBox=\"0 -960 960 960\">\n",
              "    <path d=\"M120-120v-720h720v720H120Zm60-500h600v-160H180v160Zm220 220h160v-160H400v160Zm0 220h160v-160H400v160ZM180-400h160v-160H180v160Zm440 0h160v-160H620v160ZM180-180h160v-160H180v160Zm440 0h160v-160H620v160Z\"/>\n",
              "  </svg>\n",
              "    </button>\n",
              "\n",
              "  <style>\n",
              "    .colab-df-container {\n",
              "      display:flex;\n",
              "      gap: 12px;\n",
              "    }\n",
              "\n",
              "    .colab-df-convert {\n",
              "      background-color: #E8F0FE;\n",
              "      border: none;\n",
              "      border-radius: 50%;\n",
              "      cursor: pointer;\n",
              "      display: none;\n",
              "      fill: #1967D2;\n",
              "      height: 32px;\n",
              "      padding: 0 0 0 0;\n",
              "      width: 32px;\n",
              "    }\n",
              "\n",
              "    .colab-df-convert:hover {\n",
              "      background-color: #E2EBFA;\n",
              "      box-shadow: 0px 1px 2px rgba(60, 64, 67, 0.3), 0px 1px 3px 1px rgba(60, 64, 67, 0.15);\n",
              "      fill: #174EA6;\n",
              "    }\n",
              "\n",
              "    .colab-df-buttons div {\n",
              "      margin-bottom: 4px;\n",
              "    }\n",
              "\n",
              "    [theme=dark] .colab-df-convert {\n",
              "      background-color: #3B4455;\n",
              "      fill: #D2E3FC;\n",
              "    }\n",
              "\n",
              "    [theme=dark] .colab-df-convert:hover {\n",
              "      background-color: #434B5C;\n",
              "      box-shadow: 0px 1px 3px 1px rgba(0, 0, 0, 0.15);\n",
              "      filter: drop-shadow(0px 1px 2px rgba(0, 0, 0, 0.3));\n",
              "      fill: #FFFFFF;\n",
              "    }\n",
              "  </style>\n",
              "\n",
              "    <script>\n",
              "      const buttonEl =\n",
              "        document.querySelector('#df-5acc2c2b-80cb-4303-8b60-9e81a6462012 button.colab-df-convert');\n",
              "      buttonEl.style.display =\n",
              "        google.colab.kernel.accessAllowed ? 'block' : 'none';\n",
              "\n",
              "      async function convertToInteractive(key) {\n",
              "        const element = document.querySelector('#df-5acc2c2b-80cb-4303-8b60-9e81a6462012');\n",
              "        const dataTable =\n",
              "          await google.colab.kernel.invokeFunction('convertToInteractive',\n",
              "                                                    [key], {});\n",
              "        if (!dataTable) return;\n",
              "\n",
              "        const docLinkHtml = 'Like what you see? Visit the ' +\n",
              "          '<a target=\"_blank\" href=https://colab.research.google.com/notebooks/data_table.ipynb>data table notebook</a>'\n",
              "          + ' to learn more about interactive tables.';\n",
              "        element.innerHTML = '';\n",
              "        dataTable['output_type'] = 'display_data';\n",
              "        await google.colab.output.renderOutput(dataTable, element);\n",
              "        const docLink = document.createElement('div');\n",
              "        docLink.innerHTML = docLinkHtml;\n",
              "        element.appendChild(docLink);\n",
              "      }\n",
              "    </script>\n",
              "  </div>\n",
              "\n",
              "\n",
              "<div id=\"df-242ae877-7591-4037-abec-e235f7aaae44\">\n",
              "  <button class=\"colab-df-quickchart\" onclick=\"quickchart('df-242ae877-7591-4037-abec-e235f7aaae44')\"\n",
              "            title=\"Suggest charts\"\n",
              "            style=\"display:none;\">\n",
              "\n",
              "<svg xmlns=\"http://www.w3.org/2000/svg\" height=\"24px\"viewBox=\"0 0 24 24\"\n",
              "     width=\"24px\">\n",
              "    <g>\n",
              "        <path d=\"M19 3H5c-1.1 0-2 .9-2 2v14c0 1.1.9 2 2 2h14c1.1 0 2-.9 2-2V5c0-1.1-.9-2-2-2zM9 17H7v-7h2v7zm4 0h-2V7h2v10zm4 0h-2v-4h2v4z\"/>\n",
              "    </g>\n",
              "</svg>\n",
              "  </button>\n",
              "\n",
              "<style>\n",
              "  .colab-df-quickchart {\n",
              "      --bg-color: #E8F0FE;\n",
              "      --fill-color: #1967D2;\n",
              "      --hover-bg-color: #E2EBFA;\n",
              "      --hover-fill-color: #174EA6;\n",
              "      --disabled-fill-color: #AAA;\n",
              "      --disabled-bg-color: #DDD;\n",
              "  }\n",
              "\n",
              "  [theme=dark] .colab-df-quickchart {\n",
              "      --bg-color: #3B4455;\n",
              "      --fill-color: #D2E3FC;\n",
              "      --hover-bg-color: #434B5C;\n",
              "      --hover-fill-color: #FFFFFF;\n",
              "      --disabled-bg-color: #3B4455;\n",
              "      --disabled-fill-color: #666;\n",
              "  }\n",
              "\n",
              "  .colab-df-quickchart {\n",
              "    background-color: var(--bg-color);\n",
              "    border: none;\n",
              "    border-radius: 50%;\n",
              "    cursor: pointer;\n",
              "    display: none;\n",
              "    fill: var(--fill-color);\n",
              "    height: 32px;\n",
              "    padding: 0;\n",
              "    width: 32px;\n",
              "  }\n",
              "\n",
              "  .colab-df-quickchart:hover {\n",
              "    background-color: var(--hover-bg-color);\n",
              "    box-shadow: 0 1px 2px rgba(60, 64, 67, 0.3), 0 1px 3px 1px rgba(60, 64, 67, 0.15);\n",
              "    fill: var(--button-hover-fill-color);\n",
              "  }\n",
              "\n",
              "  .colab-df-quickchart-complete:disabled,\n",
              "  .colab-df-quickchart-complete:disabled:hover {\n",
              "    background-color: var(--disabled-bg-color);\n",
              "    fill: var(--disabled-fill-color);\n",
              "    box-shadow: none;\n",
              "  }\n",
              "\n",
              "  .colab-df-spinner {\n",
              "    border: 2px solid var(--fill-color);\n",
              "    border-color: transparent;\n",
              "    border-bottom-color: var(--fill-color);\n",
              "    animation:\n",
              "      spin 1s steps(1) infinite;\n",
              "  }\n",
              "\n",
              "  @keyframes spin {\n",
              "    0% {\n",
              "      border-color: transparent;\n",
              "      border-bottom-color: var(--fill-color);\n",
              "      border-left-color: var(--fill-color);\n",
              "    }\n",
              "    20% {\n",
              "      border-color: transparent;\n",
              "      border-left-color: var(--fill-color);\n",
              "      border-top-color: var(--fill-color);\n",
              "    }\n",
              "    30% {\n",
              "      border-color: transparent;\n",
              "      border-left-color: var(--fill-color);\n",
              "      border-top-color: var(--fill-color);\n",
              "      border-right-color: var(--fill-color);\n",
              "    }\n",
              "    40% {\n",
              "      border-color: transparent;\n",
              "      border-right-color: var(--fill-color);\n",
              "      border-top-color: var(--fill-color);\n",
              "    }\n",
              "    60% {\n",
              "      border-color: transparent;\n",
              "      border-right-color: var(--fill-color);\n",
              "    }\n",
              "    80% {\n",
              "      border-color: transparent;\n",
              "      border-right-color: var(--fill-color);\n",
              "      border-bottom-color: var(--fill-color);\n",
              "    }\n",
              "    90% {\n",
              "      border-color: transparent;\n",
              "      border-bottom-color: var(--fill-color);\n",
              "    }\n",
              "  }\n",
              "</style>\n",
              "\n",
              "  <script>\n",
              "    async function quickchart(key) {\n",
              "      const quickchartButtonEl =\n",
              "        document.querySelector('#' + key + ' button');\n",
              "      quickchartButtonEl.disabled = true;  // To prevent multiple clicks.\n",
              "      quickchartButtonEl.classList.add('colab-df-spinner');\n",
              "      try {\n",
              "        const charts = await google.colab.kernel.invokeFunction(\n",
              "            'suggestCharts', [key], {});\n",
              "      } catch (error) {\n",
              "        console.error('Error during call to suggestCharts:', error);\n",
              "      }\n",
              "      quickchartButtonEl.classList.remove('colab-df-spinner');\n",
              "      quickchartButtonEl.classList.add('colab-df-quickchart-complete');\n",
              "    }\n",
              "    (() => {\n",
              "      let quickchartButtonEl =\n",
              "        document.querySelector('#df-242ae877-7591-4037-abec-e235f7aaae44 button');\n",
              "      quickchartButtonEl.style.display =\n",
              "        google.colab.kernel.accessAllowed ? 'block' : 'none';\n",
              "    })();\n",
              "  </script>\n",
              "</div>\n",
              "\n",
              "    </div>\n",
              "  </div>\n"
            ],
            "application/vnd.google.colaboratory.intrinsic+json": {
              "type": "dataframe",
              "variable_name": "df"
            }
          },
          "metadata": {},
          "execution_count": 198
        }
      ],
      "source": [
        "# Display the first 3 rows of the DataFtrame\n",
        "df.head(3)"
      ]
    },
    {
      "cell_type": "code",
      "source": [
        "# Print number of rows and columns\n",
        "print(f'This dataset has {df.shape[0]} rows and {df.shape[1]} columns')"
      ],
      "metadata": {
        "colab": {
          "base_uri": "https://localhost:8080/"
        },
        "id": "kX0U7xIxRE1K",
        "outputId": "ad56daa8-03aa-4693-f2fb-4178efd5429c"
      },
      "id": "kX0U7xIxRE1K",
      "execution_count": 199,
      "outputs": [
        {
          "output_type": "stream",
          "name": "stdout",
          "text": [
            "This dataset has 10754 rows and 22 columns\n"
          ]
        }
      ]
    },
    {
      "cell_type": "code",
      "source": [
        "# Print lebel of the columns\n",
        "df.columns"
      ],
      "metadata": {
        "colab": {
          "base_uri": "https://localhost:8080/"
        },
        "id": "24gH9XnORezl",
        "outputId": "ef8fbddb-0993-4db6-ce81-226565be1798"
      },
      "id": "24gH9XnORezl",
      "execution_count": 200,
      "outputs": [
        {
          "output_type": "execute_result",
          "data": {
            "text/plain": [
              "Index(['player', 'team', 'name', 'position', 'height', 'age', 'appearance',\n",
              "       'goals', 'assists', 'yellow cards', 'second yellow cards', 'red cards',\n",
              "       'goals conceded', 'clean sheets', 'minutes played', 'days_injured',\n",
              "       'games_injured', 'award', 'current_value', 'highest_value',\n",
              "       'position_encoded', 'winger'],\n",
              "      dtype='object')"
            ]
          },
          "metadata": {},
          "execution_count": 200
        }
      ]
    },
    {
      "cell_type": "markdown",
      "source": [
        "1- `player`: URL link to the [Transfermarkt](www.transfermarkt.com) page contains player data.\n",
        "\n",
        "2- `team`: Name of the team that player played for at the time data was collected.\n",
        "\n",
        "3- `name`: Name of player.\n",
        "\n",
        "4- `position`: Position that player played most.\n",
        "\n",
        "5- `height`: Height of player (cm Unit).\n",
        "\n",
        "6- `age`: Age of player.\n",
        "\n",
        "7- `appearance`: The number of times a player appear on field.\n",
        "\n",
        "8- `goals`: Goals scored.\n",
        "\n",
        "9- `assists`: Assits to goals.\n",
        "\n",
        "10- `yellow cards`: The number of times a player receives a single yellow card in a match.\n",
        "\n",
        "11- `second yellow cards`: The number of times a player receives a second yellow card in the same match, which results in a red card and expulsion from the game.\n",
        "\n",
        "12- `red cards`: The number of times a player receives a direct red card, leading to immediate expulsion from the match without a prior yellow card.\n",
        "\n",
        "13- `goals conceded`: Number of goals conceded by the goalkeeper in the match.\n",
        "\n",
        "14- `clean sheets`: Number of matches in which the goalkeeper did not concede goals.\n",
        "\n",
        "15- `minutes played`: Total number of minutes played by the player.\n",
        "\n",
        "16- `days_injured`: The number of days the player was absent due to injury.\n",
        "\n",
        "17- `games_injured`: The number of matches the player missed due to injury.\n",
        "\n",
        "18- `award`: Number of individual awards won by the player.\n",
        "\n",
        "19- `current_value`: Current player market value (€).\n",
        "\n",
        "20- `highest_value`: Highest market value reached by the player (€).\n",
        "\n",
        "21- `position_encoded`:Representing the player's position with numbers \"coding the four positions\": (1 = Goalkeeper, 2 = Defender, 3 = Midfielder, 4 = Forward)\n",
        "\n",
        "22- `winger`: Is the player winger? (1: winger, 0: not a winger)"
      ],
      "metadata": {
        "id": "eDZurZtTZ1_E"
      },
      "id": "eDZurZtTZ1_E"
    },
    {
      "cell_type": "code",
      "source": [
        "# Print the inforamtion about the data like missing values and data types\n",
        "df.info()"
      ],
      "metadata": {
        "colab": {
          "base_uri": "https://localhost:8080/"
        },
        "id": "XsoxQ3ANRplB",
        "outputId": "8d49a3c0-5662-4044-8f7b-2767ad887264"
      },
      "id": "XsoxQ3ANRplB",
      "execution_count": 201,
      "outputs": [
        {
          "output_type": "stream",
          "name": "stdout",
          "text": [
            "<class 'pandas.core.frame.DataFrame'>\n",
            "RangeIndex: 10754 entries, 0 to 10753\n",
            "Data columns (total 22 columns):\n",
            " #   Column               Non-Null Count  Dtype  \n",
            "---  ------               --------------  -----  \n",
            " 0   player               10754 non-null  object \n",
            " 1   team                 10754 non-null  object \n",
            " 2   name                 10754 non-null  object \n",
            " 3   position             10754 non-null  object \n",
            " 4   height               10754 non-null  float64\n",
            " 5   age                  10754 non-null  float64\n",
            " 6   appearance           10754 non-null  int64  \n",
            " 7   goals                10754 non-null  float64\n",
            " 8   assists              10754 non-null  float64\n",
            " 9   yellow cards         10754 non-null  float64\n",
            " 10  second yellow cards  10754 non-null  float64\n",
            " 11  red cards            10754 non-null  float64\n",
            " 12  goals conceded       10754 non-null  float64\n",
            " 13  clean sheets         10754 non-null  float64\n",
            " 14  minutes played       10754 non-null  int64  \n",
            " 15  days_injured         10754 non-null  int64  \n",
            " 16  games_injured        10754 non-null  int64  \n",
            " 17  award                10754 non-null  int64  \n",
            " 18  current_value        10754 non-null  int64  \n",
            " 19  highest_value        10754 non-null  int64  \n",
            " 20  position_encoded     10754 non-null  int64  \n",
            " 21  winger               10754 non-null  int64  \n",
            "dtypes: float64(9), int64(9), object(4)\n",
            "memory usage: 1.8+ MB\n"
          ]
        }
      ]
    },
    {
      "cell_type": "markdown",
      "source": [
        "- There are no missing values in this data.\n",
        "- The data types are correct for all columns."
      ],
      "metadata": {
        "id": "yAyyiE8HfPC6"
      },
      "id": "yAyyiE8HfPC6"
    },
    {
      "cell_type": "code",
      "source": [
        "# Generate descriptive statistics for categorical (object-type) columns in the  DataFrame.\n",
        "# This will provide insights such as unique values, most frequent values (top), and their counts (freq).\n",
        "df.describe(include='object')"
      ],
      "metadata": {
        "colab": {
          "base_uri": "https://localhost:8080/",
          "height": 175
        },
        "id": "bh2AHtxfSuNW",
        "outputId": "9baf774e-63ce-4e65-8f00-a0afec14f91c"
      },
      "id": "bh2AHtxfSuNW",
      "execution_count": 202,
      "outputs": [
        {
          "output_type": "execute_result",
          "data": {
            "text/plain": [
              "                                    player                  team      name  \\\n",
              "count                                10754                 10754     10754   \n",
              "unique                               10754                   374     10584   \n",
              "top     /david-de-gea/profil/spieler/59377  Daejeon Hana Citizen  Paulinho   \n",
              "freq                                     1                    46         6   \n",
              "\n",
              "                    position  \n",
              "count                  10754  \n",
              "unique                    16  \n",
              "top     Defender Centre-Back  \n",
              "freq                    1821  "
            ],
            "text/html": [
              "\n",
              "  <div id=\"df-72ccfcb8-8480-4db0-8b84-82d20efe8fc4\" class=\"colab-df-container\">\n",
              "    <div>\n",
              "<style scoped>\n",
              "    .dataframe tbody tr th:only-of-type {\n",
              "        vertical-align: middle;\n",
              "    }\n",
              "\n",
              "    .dataframe tbody tr th {\n",
              "        vertical-align: top;\n",
              "    }\n",
              "\n",
              "    .dataframe thead th {\n",
              "        text-align: right;\n",
              "    }\n",
              "</style>\n",
              "<table border=\"1\" class=\"dataframe\">\n",
              "  <thead>\n",
              "    <tr style=\"text-align: right;\">\n",
              "      <th></th>\n",
              "      <th>player</th>\n",
              "      <th>team</th>\n",
              "      <th>name</th>\n",
              "      <th>position</th>\n",
              "    </tr>\n",
              "  </thead>\n",
              "  <tbody>\n",
              "    <tr>\n",
              "      <th>count</th>\n",
              "      <td>10754</td>\n",
              "      <td>10754</td>\n",
              "      <td>10754</td>\n",
              "      <td>10754</td>\n",
              "    </tr>\n",
              "    <tr>\n",
              "      <th>unique</th>\n",
              "      <td>10754</td>\n",
              "      <td>374</td>\n",
              "      <td>10584</td>\n",
              "      <td>16</td>\n",
              "    </tr>\n",
              "    <tr>\n",
              "      <th>top</th>\n",
              "      <td>/david-de-gea/profil/spieler/59377</td>\n",
              "      <td>Daejeon Hana Citizen</td>\n",
              "      <td>Paulinho</td>\n",
              "      <td>Defender Centre-Back</td>\n",
              "    </tr>\n",
              "    <tr>\n",
              "      <th>freq</th>\n",
              "      <td>1</td>\n",
              "      <td>46</td>\n",
              "      <td>6</td>\n",
              "      <td>1821</td>\n",
              "    </tr>\n",
              "  </tbody>\n",
              "</table>\n",
              "</div>\n",
              "    <div class=\"colab-df-buttons\">\n",
              "\n",
              "  <div class=\"colab-df-container\">\n",
              "    <button class=\"colab-df-convert\" onclick=\"convertToInteractive('df-72ccfcb8-8480-4db0-8b84-82d20efe8fc4')\"\n",
              "            title=\"Convert this dataframe to an interactive table.\"\n",
              "            style=\"display:none;\">\n",
              "\n",
              "  <svg xmlns=\"http://www.w3.org/2000/svg\" height=\"24px\" viewBox=\"0 -960 960 960\">\n",
              "    <path d=\"M120-120v-720h720v720H120Zm60-500h600v-160H180v160Zm220 220h160v-160H400v160Zm0 220h160v-160H400v160ZM180-400h160v-160H180v160Zm440 0h160v-160H620v160ZM180-180h160v-160H180v160Zm440 0h160v-160H620v160Z\"/>\n",
              "  </svg>\n",
              "    </button>\n",
              "\n",
              "  <style>\n",
              "    .colab-df-container {\n",
              "      display:flex;\n",
              "      gap: 12px;\n",
              "    }\n",
              "\n",
              "    .colab-df-convert {\n",
              "      background-color: #E8F0FE;\n",
              "      border: none;\n",
              "      border-radius: 50%;\n",
              "      cursor: pointer;\n",
              "      display: none;\n",
              "      fill: #1967D2;\n",
              "      height: 32px;\n",
              "      padding: 0 0 0 0;\n",
              "      width: 32px;\n",
              "    }\n",
              "\n",
              "    .colab-df-convert:hover {\n",
              "      background-color: #E2EBFA;\n",
              "      box-shadow: 0px 1px 2px rgba(60, 64, 67, 0.3), 0px 1px 3px 1px rgba(60, 64, 67, 0.15);\n",
              "      fill: #174EA6;\n",
              "    }\n",
              "\n",
              "    .colab-df-buttons div {\n",
              "      margin-bottom: 4px;\n",
              "    }\n",
              "\n",
              "    [theme=dark] .colab-df-convert {\n",
              "      background-color: #3B4455;\n",
              "      fill: #D2E3FC;\n",
              "    }\n",
              "\n",
              "    [theme=dark] .colab-df-convert:hover {\n",
              "      background-color: #434B5C;\n",
              "      box-shadow: 0px 1px 3px 1px rgba(0, 0, 0, 0.15);\n",
              "      filter: drop-shadow(0px 1px 2px rgba(0, 0, 0, 0.3));\n",
              "      fill: #FFFFFF;\n",
              "    }\n",
              "  </style>\n",
              "\n",
              "    <script>\n",
              "      const buttonEl =\n",
              "        document.querySelector('#df-72ccfcb8-8480-4db0-8b84-82d20efe8fc4 button.colab-df-convert');\n",
              "      buttonEl.style.display =\n",
              "        google.colab.kernel.accessAllowed ? 'block' : 'none';\n",
              "\n",
              "      async function convertToInteractive(key) {\n",
              "        const element = document.querySelector('#df-72ccfcb8-8480-4db0-8b84-82d20efe8fc4');\n",
              "        const dataTable =\n",
              "          await google.colab.kernel.invokeFunction('convertToInteractive',\n",
              "                                                    [key], {});\n",
              "        if (!dataTable) return;\n",
              "\n",
              "        const docLinkHtml = 'Like what you see? Visit the ' +\n",
              "          '<a target=\"_blank\" href=https://colab.research.google.com/notebooks/data_table.ipynb>data table notebook</a>'\n",
              "          + ' to learn more about interactive tables.';\n",
              "        element.innerHTML = '';\n",
              "        dataTable['output_type'] = 'display_data';\n",
              "        await google.colab.output.renderOutput(dataTable, element);\n",
              "        const docLink = document.createElement('div');\n",
              "        docLink.innerHTML = docLinkHtml;\n",
              "        element.appendChild(docLink);\n",
              "      }\n",
              "    </script>\n",
              "  </div>\n",
              "\n",
              "\n",
              "<div id=\"df-e27032af-2908-440a-8e5b-c365fbad09af\">\n",
              "  <button class=\"colab-df-quickchart\" onclick=\"quickchart('df-e27032af-2908-440a-8e5b-c365fbad09af')\"\n",
              "            title=\"Suggest charts\"\n",
              "            style=\"display:none;\">\n",
              "\n",
              "<svg xmlns=\"http://www.w3.org/2000/svg\" height=\"24px\"viewBox=\"0 0 24 24\"\n",
              "     width=\"24px\">\n",
              "    <g>\n",
              "        <path d=\"M19 3H5c-1.1 0-2 .9-2 2v14c0 1.1.9 2 2 2h14c1.1 0 2-.9 2-2V5c0-1.1-.9-2-2-2zM9 17H7v-7h2v7zm4 0h-2V7h2v10zm4 0h-2v-4h2v4z\"/>\n",
              "    </g>\n",
              "</svg>\n",
              "  </button>\n",
              "\n",
              "<style>\n",
              "  .colab-df-quickchart {\n",
              "      --bg-color: #E8F0FE;\n",
              "      --fill-color: #1967D2;\n",
              "      --hover-bg-color: #E2EBFA;\n",
              "      --hover-fill-color: #174EA6;\n",
              "      --disabled-fill-color: #AAA;\n",
              "      --disabled-bg-color: #DDD;\n",
              "  }\n",
              "\n",
              "  [theme=dark] .colab-df-quickchart {\n",
              "      --bg-color: #3B4455;\n",
              "      --fill-color: #D2E3FC;\n",
              "      --hover-bg-color: #434B5C;\n",
              "      --hover-fill-color: #FFFFFF;\n",
              "      --disabled-bg-color: #3B4455;\n",
              "      --disabled-fill-color: #666;\n",
              "  }\n",
              "\n",
              "  .colab-df-quickchart {\n",
              "    background-color: var(--bg-color);\n",
              "    border: none;\n",
              "    border-radius: 50%;\n",
              "    cursor: pointer;\n",
              "    display: none;\n",
              "    fill: var(--fill-color);\n",
              "    height: 32px;\n",
              "    padding: 0;\n",
              "    width: 32px;\n",
              "  }\n",
              "\n",
              "  .colab-df-quickchart:hover {\n",
              "    background-color: var(--hover-bg-color);\n",
              "    box-shadow: 0 1px 2px rgba(60, 64, 67, 0.3), 0 1px 3px 1px rgba(60, 64, 67, 0.15);\n",
              "    fill: var(--button-hover-fill-color);\n",
              "  }\n",
              "\n",
              "  .colab-df-quickchart-complete:disabled,\n",
              "  .colab-df-quickchart-complete:disabled:hover {\n",
              "    background-color: var(--disabled-bg-color);\n",
              "    fill: var(--disabled-fill-color);\n",
              "    box-shadow: none;\n",
              "  }\n",
              "\n",
              "  .colab-df-spinner {\n",
              "    border: 2px solid var(--fill-color);\n",
              "    border-color: transparent;\n",
              "    border-bottom-color: var(--fill-color);\n",
              "    animation:\n",
              "      spin 1s steps(1) infinite;\n",
              "  }\n",
              "\n",
              "  @keyframes spin {\n",
              "    0% {\n",
              "      border-color: transparent;\n",
              "      border-bottom-color: var(--fill-color);\n",
              "      border-left-color: var(--fill-color);\n",
              "    }\n",
              "    20% {\n",
              "      border-color: transparent;\n",
              "      border-left-color: var(--fill-color);\n",
              "      border-top-color: var(--fill-color);\n",
              "    }\n",
              "    30% {\n",
              "      border-color: transparent;\n",
              "      border-left-color: var(--fill-color);\n",
              "      border-top-color: var(--fill-color);\n",
              "      border-right-color: var(--fill-color);\n",
              "    }\n",
              "    40% {\n",
              "      border-color: transparent;\n",
              "      border-right-color: var(--fill-color);\n",
              "      border-top-color: var(--fill-color);\n",
              "    }\n",
              "    60% {\n",
              "      border-color: transparent;\n",
              "      border-right-color: var(--fill-color);\n",
              "    }\n",
              "    80% {\n",
              "      border-color: transparent;\n",
              "      border-right-color: var(--fill-color);\n",
              "      border-bottom-color: var(--fill-color);\n",
              "    }\n",
              "    90% {\n",
              "      border-color: transparent;\n",
              "      border-bottom-color: var(--fill-color);\n",
              "    }\n",
              "  }\n",
              "</style>\n",
              "\n",
              "  <script>\n",
              "    async function quickchart(key) {\n",
              "      const quickchartButtonEl =\n",
              "        document.querySelector('#' + key + ' button');\n",
              "      quickchartButtonEl.disabled = true;  // To prevent multiple clicks.\n",
              "      quickchartButtonEl.classList.add('colab-df-spinner');\n",
              "      try {\n",
              "        const charts = await google.colab.kernel.invokeFunction(\n",
              "            'suggestCharts', [key], {});\n",
              "      } catch (error) {\n",
              "        console.error('Error during call to suggestCharts:', error);\n",
              "      }\n",
              "      quickchartButtonEl.classList.remove('colab-df-spinner');\n",
              "      quickchartButtonEl.classList.add('colab-df-quickchart-complete');\n",
              "    }\n",
              "    (() => {\n",
              "      let quickchartButtonEl =\n",
              "        document.querySelector('#df-e27032af-2908-440a-8e5b-c365fbad09af button');\n",
              "      quickchartButtonEl.style.display =\n",
              "        google.colab.kernel.accessAllowed ? 'block' : 'none';\n",
              "    })();\n",
              "  </script>\n",
              "</div>\n",
              "\n",
              "    </div>\n",
              "  </div>\n"
            ],
            "application/vnd.google.colaboratory.intrinsic+json": {
              "type": "dataframe",
              "summary": "{\n  \"name\": \"df\",\n  \"rows\": 4,\n  \"fields\": [\n    {\n      \"column\": \"player\",\n      \"properties\": {\n        \"dtype\": \"string\",\n        \"num_unique_values\": 3,\n        \"samples\": [\n          \"10754\",\n          \"/david-de-gea/profil/spieler/59377\",\n          \"1\"\n        ],\n        \"semantic_type\": \"\",\n        \"description\": \"\"\n      }\n    },\n    {\n      \"column\": \"team\",\n      \"properties\": {\n        \"dtype\": \"string\",\n        \"num_unique_values\": 4,\n        \"samples\": [\n          374,\n          \"46\",\n          \"10754\"\n        ],\n        \"semantic_type\": \"\",\n        \"description\": \"\"\n      }\n    },\n    {\n      \"column\": \"name\",\n      \"properties\": {\n        \"dtype\": \"string\",\n        \"num_unique_values\": 4,\n        \"samples\": [\n          10584,\n          \"6\",\n          \"10754\"\n        ],\n        \"semantic_type\": \"\",\n        \"description\": \"\"\n      }\n    },\n    {\n      \"column\": \"position\",\n      \"properties\": {\n        \"dtype\": \"string\",\n        \"num_unique_values\": 4,\n        \"samples\": [\n          16,\n          \"1821\",\n          \"10754\"\n        ],\n        \"semantic_type\": \"\",\n        \"description\": \"\"\n      }\n    }\n  ]\n}"
            }
          },
          "metadata": {},
          "execution_count": 202
        }
      ]
    },
    {
      "cell_type": "markdown",
      "source": [
        "**Insights:**\n",
        "\n",
        "1- There are 374 unique teams in the dataset.\n",
        "\n",
        "2- The most frequent team is Daejeon Hana Citizen, appearing 46 times, indicating that this club has more recorded player instances than any other.\n",
        "\n",
        "3- Some player names appear multiple times, possibly because of multiple seasons, transfers, or duplicate records. The most frequent player name is \"Paulinho\", appearing 6 times. This suggests that there are multiple players with the same name, which is common in football."
      ],
      "metadata": {
        "id": "FstzDbtvhBxm"
      },
      "id": "FstzDbtvhBxm"
    },
    {
      "cell_type": "code",
      "source": [
        "# Print count of hte unique values in categorical features\n",
        "categorical_features = ['player', 'team', 'team', 'position']\n",
        "\n",
        "for i in categorical_features:\n",
        "  print(df[i].value_counts())\n",
        "  print(8*'----')"
      ],
      "metadata": {
        "colab": {
          "base_uri": "https://localhost:8080/"
        },
        "id": "ENnhfNwGSzKG",
        "outputId": "7f4fbea6-c5b5-491b-de71-2c42417ef0ba"
      },
      "id": "ENnhfNwGSzKG",
      "execution_count": 203,
      "outputs": [
        {
          "output_type": "stream",
          "name": "stdout",
          "text": [
            "player\n",
            "/david-de-gea/profil/spieler/59377             1\n",
            "/bongokuhle-hlongwane/profil/spieler/669202    1\n",
            "/joseph-rosales/profil/spieler/657225          1\n",
            "/robin-lod/profil/spieler/173573               1\n",
            "/emanuel-reynoso/profil/spieler/439626         1\n",
            "                                              ..\n",
            "/kayque/profil/spieler/813037                  1\n",
            "/breno/profil/spieler/697400                   1\n",
            "/patrick-de-paula/profil/spieler/737821        1\n",
            "/gabriel-pires/profil/spieler/167291           1\n",
            "/alexander-badolato/profil/spieler/957230      1\n",
            "Name: count, Length: 10754, dtype: int64\n",
            "--------------------------------\n",
            "team\n",
            "Daejeon Hana Citizen      46\n",
            "Jeonbuk Hyundai Motors    46\n",
            "FC Seoul                  45\n",
            "Gangwon FC                43\n",
            "Daegu FC                  42\n",
            "                          ..\n",
            "FC Barcelona              22\n",
            "Atlético de Madrid        22\n",
            "CA Osasuna                22\n",
            "Hatayspor                 12\n",
            "Gaziantep FK               6\n",
            "Name: count, Length: 374, dtype: int64\n",
            "--------------------------------\n",
            "team\n",
            "Daejeon Hana Citizen      46\n",
            "Jeonbuk Hyundai Motors    46\n",
            "FC Seoul                  45\n",
            "Gangwon FC                43\n",
            "Daegu FC                  42\n",
            "                          ..\n",
            "FC Barcelona              22\n",
            "Atlético de Madrid        22\n",
            "CA Osasuna                22\n",
            "Hatayspor                 12\n",
            "Gaziantep FK               6\n",
            "Name: count, Length: 374, dtype: int64\n",
            "--------------------------------\n",
            "position\n",
            "Defender Centre-Back          1821\n",
            "Attack Centre-Forward         1353\n",
            "Goalkeeper                    1229\n",
            "midfield-CentralMidfield      1149\n",
            "midfield-DefensiveMidfield     900\n",
            "Defender Right-Back            867\n",
            "Defender Left-Back             807\n",
            "midfield-AttackingMidfield     769\n",
            "Attack-RightWinger             717\n",
            "Attack-LeftWinger              714\n",
            "midfield-RightMidfield         102\n",
            "midfield-LeftMidfield          100\n",
            "midfield                        75\n",
            "Attack-SecondStriker            65\n",
            "Attack                          53\n",
            "Defender                        33\n",
            "Name: count, dtype: int64\n",
            "--------------------------------\n"
          ]
        }
      ]
    },
    {
      "cell_type": "code",
      "source": [
        "# Generate descriptive statistics for all numeric columns in the DataFrame.\n",
        "# This includes count, mean, standard deviation, min, max, and quartiles.\n",
        "df.describe()"
      ],
      "metadata": {
        "colab": {
          "base_uri": "https://localhost:8080/",
          "height": 355
        },
        "id": "Q2_PziJBTAkr",
        "outputId": "727f16e4-e958-452b-c569-0c90b0c4d645"
      },
      "id": "Q2_PziJBTAkr",
      "execution_count": 204,
      "outputs": [
        {
          "output_type": "execute_result",
          "data": {
            "text/plain": [
              "             height           age    appearance         goals       assists  \\\n",
              "count  10754.000000  10754.000000  10754.000000  10754.000000  10754.000000   \n",
              "mean     181.240353     26.041903     36.407011      0.125554      0.086978   \n",
              "std        6.969818      4.777629     26.526541      0.235585      0.143351   \n",
              "min      156.000000     15.000000      0.000000      0.000000      0.000000   \n",
              "25%      176.000000     22.000000     12.000000      0.000000      0.000000   \n",
              "50%      181.240353     26.000000     35.000000      0.045969      0.040773   \n",
              "75%      186.000000     29.000000     59.000000      0.172263      0.133136   \n",
              "max      206.000000     43.000000    107.000000     11.250000      4.000000   \n",
              "\n",
              "       yellow cards  second yellow cards     red cards  goals conceded  \\\n",
              "count  10754.000000         10754.000000  10754.000000    10754.000000   \n",
              "mean       0.189757             0.004666      0.006826        0.131655   \n",
              "std        0.432388             0.025232      0.081143        0.442335   \n",
              "min        0.000000             0.000000      0.000000        0.000000   \n",
              "25%        0.053191             0.000000      0.000000        0.000000   \n",
              "50%        0.150250             0.000000      0.000000        0.000000   \n",
              "75%        0.248276             0.000000      0.000000        0.000000   \n",
              "max       30.000000             1.000000      6.923077        9.000000   \n",
              "\n",
              "       clean sheets  minutes played  days_injured  games_injured  \\\n",
              "count  10754.000000    10754.000000  10754.000000   10754.000000   \n",
              "mean       0.044881     2470.789381    117.961689      15.826297   \n",
              "std        0.924437     2021.703271    175.206827      23.383606   \n",
              "min        0.000000        0.000000      0.000000       0.000000   \n",
              "25%        0.000000      660.000000      0.000000       0.000000   \n",
              "50%        0.000000     2101.500000     37.000000       5.000000   \n",
              "75%        0.000000     3968.000000    181.000000      24.000000   \n",
              "max       90.000000     9510.000000   2349.000000     339.000000   \n",
              "\n",
              "              award  current_value  highest_value  position_encoded  \\\n",
              "count  10754.000000   1.075400e+04   1.075400e+04      10754.000000   \n",
              "mean       1.960759   3.622971e+06   6.152606e+06          2.713223   \n",
              "std        3.743936   9.095410e+06   1.338988e+07          0.986356   \n",
              "min        0.000000   0.000000e+00   0.000000e+00          1.000000   \n",
              "25%        0.000000   3.000000e+05   4.500000e+05          2.000000   \n",
              "50%        1.000000   8.000000e+05   1.500000e+06          3.000000   \n",
              "75%        2.000000   3.000000e+06   5.000000e+06          4.000000   \n",
              "max       92.000000   1.800000e+08   2.000000e+08          4.000000   \n",
              "\n",
              "             winger  \n",
              "count  10754.000000  \n",
              "mean       0.307513  \n",
              "std        0.461485  \n",
              "min        0.000000  \n",
              "25%        0.000000  \n",
              "50%        0.000000  \n",
              "75%        1.000000  \n",
              "max        1.000000  "
            ],
            "text/html": [
              "\n",
              "  <div id=\"df-f40eb073-da05-4d14-9c53-6d701ec42ee6\" class=\"colab-df-container\">\n",
              "    <div>\n",
              "<style scoped>\n",
              "    .dataframe tbody tr th:only-of-type {\n",
              "        vertical-align: middle;\n",
              "    }\n",
              "\n",
              "    .dataframe tbody tr th {\n",
              "        vertical-align: top;\n",
              "    }\n",
              "\n",
              "    .dataframe thead th {\n",
              "        text-align: right;\n",
              "    }\n",
              "</style>\n",
              "<table border=\"1\" class=\"dataframe\">\n",
              "  <thead>\n",
              "    <tr style=\"text-align: right;\">\n",
              "      <th></th>\n",
              "      <th>height</th>\n",
              "      <th>age</th>\n",
              "      <th>appearance</th>\n",
              "      <th>goals</th>\n",
              "      <th>assists</th>\n",
              "      <th>yellow cards</th>\n",
              "      <th>second yellow cards</th>\n",
              "      <th>red cards</th>\n",
              "      <th>goals conceded</th>\n",
              "      <th>clean sheets</th>\n",
              "      <th>minutes played</th>\n",
              "      <th>days_injured</th>\n",
              "      <th>games_injured</th>\n",
              "      <th>award</th>\n",
              "      <th>current_value</th>\n",
              "      <th>highest_value</th>\n",
              "      <th>position_encoded</th>\n",
              "      <th>winger</th>\n",
              "    </tr>\n",
              "  </thead>\n",
              "  <tbody>\n",
              "    <tr>\n",
              "      <th>count</th>\n",
              "      <td>10754.000000</td>\n",
              "      <td>10754.000000</td>\n",
              "      <td>10754.000000</td>\n",
              "      <td>10754.000000</td>\n",
              "      <td>10754.000000</td>\n",
              "      <td>10754.000000</td>\n",
              "      <td>10754.000000</td>\n",
              "      <td>10754.000000</td>\n",
              "      <td>10754.000000</td>\n",
              "      <td>10754.000000</td>\n",
              "      <td>10754.000000</td>\n",
              "      <td>10754.000000</td>\n",
              "      <td>10754.000000</td>\n",
              "      <td>10754.000000</td>\n",
              "      <td>1.075400e+04</td>\n",
              "      <td>1.075400e+04</td>\n",
              "      <td>10754.000000</td>\n",
              "      <td>10754.000000</td>\n",
              "    </tr>\n",
              "    <tr>\n",
              "      <th>mean</th>\n",
              "      <td>181.240353</td>\n",
              "      <td>26.041903</td>\n",
              "      <td>36.407011</td>\n",
              "      <td>0.125554</td>\n",
              "      <td>0.086978</td>\n",
              "      <td>0.189757</td>\n",
              "      <td>0.004666</td>\n",
              "      <td>0.006826</td>\n",
              "      <td>0.131655</td>\n",
              "      <td>0.044881</td>\n",
              "      <td>2470.789381</td>\n",
              "      <td>117.961689</td>\n",
              "      <td>15.826297</td>\n",
              "      <td>1.960759</td>\n",
              "      <td>3.622971e+06</td>\n",
              "      <td>6.152606e+06</td>\n",
              "      <td>2.713223</td>\n",
              "      <td>0.307513</td>\n",
              "    </tr>\n",
              "    <tr>\n",
              "      <th>std</th>\n",
              "      <td>6.969818</td>\n",
              "      <td>4.777629</td>\n",
              "      <td>26.526541</td>\n",
              "      <td>0.235585</td>\n",
              "      <td>0.143351</td>\n",
              "      <td>0.432388</td>\n",
              "      <td>0.025232</td>\n",
              "      <td>0.081143</td>\n",
              "      <td>0.442335</td>\n",
              "      <td>0.924437</td>\n",
              "      <td>2021.703271</td>\n",
              "      <td>175.206827</td>\n",
              "      <td>23.383606</td>\n",
              "      <td>3.743936</td>\n",
              "      <td>9.095410e+06</td>\n",
              "      <td>1.338988e+07</td>\n",
              "      <td>0.986356</td>\n",
              "      <td>0.461485</td>\n",
              "    </tr>\n",
              "    <tr>\n",
              "      <th>min</th>\n",
              "      <td>156.000000</td>\n",
              "      <td>15.000000</td>\n",
              "      <td>0.000000</td>\n",
              "      <td>0.000000</td>\n",
              "      <td>0.000000</td>\n",
              "      <td>0.000000</td>\n",
              "      <td>0.000000</td>\n",
              "      <td>0.000000</td>\n",
              "      <td>0.000000</td>\n",
              "      <td>0.000000</td>\n",
              "      <td>0.000000</td>\n",
              "      <td>0.000000</td>\n",
              "      <td>0.000000</td>\n",
              "      <td>0.000000</td>\n",
              "      <td>0.000000e+00</td>\n",
              "      <td>0.000000e+00</td>\n",
              "      <td>1.000000</td>\n",
              "      <td>0.000000</td>\n",
              "    </tr>\n",
              "    <tr>\n",
              "      <th>25%</th>\n",
              "      <td>176.000000</td>\n",
              "      <td>22.000000</td>\n",
              "      <td>12.000000</td>\n",
              "      <td>0.000000</td>\n",
              "      <td>0.000000</td>\n",
              "      <td>0.053191</td>\n",
              "      <td>0.000000</td>\n",
              "      <td>0.000000</td>\n",
              "      <td>0.000000</td>\n",
              "      <td>0.000000</td>\n",
              "      <td>660.000000</td>\n",
              "      <td>0.000000</td>\n",
              "      <td>0.000000</td>\n",
              "      <td>0.000000</td>\n",
              "      <td>3.000000e+05</td>\n",
              "      <td>4.500000e+05</td>\n",
              "      <td>2.000000</td>\n",
              "      <td>0.000000</td>\n",
              "    </tr>\n",
              "    <tr>\n",
              "      <th>50%</th>\n",
              "      <td>181.240353</td>\n",
              "      <td>26.000000</td>\n",
              "      <td>35.000000</td>\n",
              "      <td>0.045969</td>\n",
              "      <td>0.040773</td>\n",
              "      <td>0.150250</td>\n",
              "      <td>0.000000</td>\n",
              "      <td>0.000000</td>\n",
              "      <td>0.000000</td>\n",
              "      <td>0.000000</td>\n",
              "      <td>2101.500000</td>\n",
              "      <td>37.000000</td>\n",
              "      <td>5.000000</td>\n",
              "      <td>1.000000</td>\n",
              "      <td>8.000000e+05</td>\n",
              "      <td>1.500000e+06</td>\n",
              "      <td>3.000000</td>\n",
              "      <td>0.000000</td>\n",
              "    </tr>\n",
              "    <tr>\n",
              "      <th>75%</th>\n",
              "      <td>186.000000</td>\n",
              "      <td>29.000000</td>\n",
              "      <td>59.000000</td>\n",
              "      <td>0.172263</td>\n",
              "      <td>0.133136</td>\n",
              "      <td>0.248276</td>\n",
              "      <td>0.000000</td>\n",
              "      <td>0.000000</td>\n",
              "      <td>0.000000</td>\n",
              "      <td>0.000000</td>\n",
              "      <td>3968.000000</td>\n",
              "      <td>181.000000</td>\n",
              "      <td>24.000000</td>\n",
              "      <td>2.000000</td>\n",
              "      <td>3.000000e+06</td>\n",
              "      <td>5.000000e+06</td>\n",
              "      <td>4.000000</td>\n",
              "      <td>1.000000</td>\n",
              "    </tr>\n",
              "    <tr>\n",
              "      <th>max</th>\n",
              "      <td>206.000000</td>\n",
              "      <td>43.000000</td>\n",
              "      <td>107.000000</td>\n",
              "      <td>11.250000</td>\n",
              "      <td>4.000000</td>\n",
              "      <td>30.000000</td>\n",
              "      <td>1.000000</td>\n",
              "      <td>6.923077</td>\n",
              "      <td>9.000000</td>\n",
              "      <td>90.000000</td>\n",
              "      <td>9510.000000</td>\n",
              "      <td>2349.000000</td>\n",
              "      <td>339.000000</td>\n",
              "      <td>92.000000</td>\n",
              "      <td>1.800000e+08</td>\n",
              "      <td>2.000000e+08</td>\n",
              "      <td>4.000000</td>\n",
              "      <td>1.000000</td>\n",
              "    </tr>\n",
              "  </tbody>\n",
              "</table>\n",
              "</div>\n",
              "    <div class=\"colab-df-buttons\">\n",
              "\n",
              "  <div class=\"colab-df-container\">\n",
              "    <button class=\"colab-df-convert\" onclick=\"convertToInteractive('df-f40eb073-da05-4d14-9c53-6d701ec42ee6')\"\n",
              "            title=\"Convert this dataframe to an interactive table.\"\n",
              "            style=\"display:none;\">\n",
              "\n",
              "  <svg xmlns=\"http://www.w3.org/2000/svg\" height=\"24px\" viewBox=\"0 -960 960 960\">\n",
              "    <path d=\"M120-120v-720h720v720H120Zm60-500h600v-160H180v160Zm220 220h160v-160H400v160Zm0 220h160v-160H400v160ZM180-400h160v-160H180v160Zm440 0h160v-160H620v160ZM180-180h160v-160H180v160Zm440 0h160v-160H620v160Z\"/>\n",
              "  </svg>\n",
              "    </button>\n",
              "\n",
              "  <style>\n",
              "    .colab-df-container {\n",
              "      display:flex;\n",
              "      gap: 12px;\n",
              "    }\n",
              "\n",
              "    .colab-df-convert {\n",
              "      background-color: #E8F0FE;\n",
              "      border: none;\n",
              "      border-radius: 50%;\n",
              "      cursor: pointer;\n",
              "      display: none;\n",
              "      fill: #1967D2;\n",
              "      height: 32px;\n",
              "      padding: 0 0 0 0;\n",
              "      width: 32px;\n",
              "    }\n",
              "\n",
              "    .colab-df-convert:hover {\n",
              "      background-color: #E2EBFA;\n",
              "      box-shadow: 0px 1px 2px rgba(60, 64, 67, 0.3), 0px 1px 3px 1px rgba(60, 64, 67, 0.15);\n",
              "      fill: #174EA6;\n",
              "    }\n",
              "\n",
              "    .colab-df-buttons div {\n",
              "      margin-bottom: 4px;\n",
              "    }\n",
              "\n",
              "    [theme=dark] .colab-df-convert {\n",
              "      background-color: #3B4455;\n",
              "      fill: #D2E3FC;\n",
              "    }\n",
              "\n",
              "    [theme=dark] .colab-df-convert:hover {\n",
              "      background-color: #434B5C;\n",
              "      box-shadow: 0px 1px 3px 1px rgba(0, 0, 0, 0.15);\n",
              "      filter: drop-shadow(0px 1px 2px rgba(0, 0, 0, 0.3));\n",
              "      fill: #FFFFFF;\n",
              "    }\n",
              "  </style>\n",
              "\n",
              "    <script>\n",
              "      const buttonEl =\n",
              "        document.querySelector('#df-f40eb073-da05-4d14-9c53-6d701ec42ee6 button.colab-df-convert');\n",
              "      buttonEl.style.display =\n",
              "        google.colab.kernel.accessAllowed ? 'block' : 'none';\n",
              "\n",
              "      async function convertToInteractive(key) {\n",
              "        const element = document.querySelector('#df-f40eb073-da05-4d14-9c53-6d701ec42ee6');\n",
              "        const dataTable =\n",
              "          await google.colab.kernel.invokeFunction('convertToInteractive',\n",
              "                                                    [key], {});\n",
              "        if (!dataTable) return;\n",
              "\n",
              "        const docLinkHtml = 'Like what you see? Visit the ' +\n",
              "          '<a target=\"_blank\" href=https://colab.research.google.com/notebooks/data_table.ipynb>data table notebook</a>'\n",
              "          + ' to learn more about interactive tables.';\n",
              "        element.innerHTML = '';\n",
              "        dataTable['output_type'] = 'display_data';\n",
              "        await google.colab.output.renderOutput(dataTable, element);\n",
              "        const docLink = document.createElement('div');\n",
              "        docLink.innerHTML = docLinkHtml;\n",
              "        element.appendChild(docLink);\n",
              "      }\n",
              "    </script>\n",
              "  </div>\n",
              "\n",
              "\n",
              "<div id=\"df-02019b4e-f7d4-4310-9e8f-92d32b2734ab\">\n",
              "  <button class=\"colab-df-quickchart\" onclick=\"quickchart('df-02019b4e-f7d4-4310-9e8f-92d32b2734ab')\"\n",
              "            title=\"Suggest charts\"\n",
              "            style=\"display:none;\">\n",
              "\n",
              "<svg xmlns=\"http://www.w3.org/2000/svg\" height=\"24px\"viewBox=\"0 0 24 24\"\n",
              "     width=\"24px\">\n",
              "    <g>\n",
              "        <path d=\"M19 3H5c-1.1 0-2 .9-2 2v14c0 1.1.9 2 2 2h14c1.1 0 2-.9 2-2V5c0-1.1-.9-2-2-2zM9 17H7v-7h2v7zm4 0h-2V7h2v10zm4 0h-2v-4h2v4z\"/>\n",
              "    </g>\n",
              "</svg>\n",
              "  </button>\n",
              "\n",
              "<style>\n",
              "  .colab-df-quickchart {\n",
              "      --bg-color: #E8F0FE;\n",
              "      --fill-color: #1967D2;\n",
              "      --hover-bg-color: #E2EBFA;\n",
              "      --hover-fill-color: #174EA6;\n",
              "      --disabled-fill-color: #AAA;\n",
              "      --disabled-bg-color: #DDD;\n",
              "  }\n",
              "\n",
              "  [theme=dark] .colab-df-quickchart {\n",
              "      --bg-color: #3B4455;\n",
              "      --fill-color: #D2E3FC;\n",
              "      --hover-bg-color: #434B5C;\n",
              "      --hover-fill-color: #FFFFFF;\n",
              "      --disabled-bg-color: #3B4455;\n",
              "      --disabled-fill-color: #666;\n",
              "  }\n",
              "\n",
              "  .colab-df-quickchart {\n",
              "    background-color: var(--bg-color);\n",
              "    border: none;\n",
              "    border-radius: 50%;\n",
              "    cursor: pointer;\n",
              "    display: none;\n",
              "    fill: var(--fill-color);\n",
              "    height: 32px;\n",
              "    padding: 0;\n",
              "    width: 32px;\n",
              "  }\n",
              "\n",
              "  .colab-df-quickchart:hover {\n",
              "    background-color: var(--hover-bg-color);\n",
              "    box-shadow: 0 1px 2px rgba(60, 64, 67, 0.3), 0 1px 3px 1px rgba(60, 64, 67, 0.15);\n",
              "    fill: var(--button-hover-fill-color);\n",
              "  }\n",
              "\n",
              "  .colab-df-quickchart-complete:disabled,\n",
              "  .colab-df-quickchart-complete:disabled:hover {\n",
              "    background-color: var(--disabled-bg-color);\n",
              "    fill: var(--disabled-fill-color);\n",
              "    box-shadow: none;\n",
              "  }\n",
              "\n",
              "  .colab-df-spinner {\n",
              "    border: 2px solid var(--fill-color);\n",
              "    border-color: transparent;\n",
              "    border-bottom-color: var(--fill-color);\n",
              "    animation:\n",
              "      spin 1s steps(1) infinite;\n",
              "  }\n",
              "\n",
              "  @keyframes spin {\n",
              "    0% {\n",
              "      border-color: transparent;\n",
              "      border-bottom-color: var(--fill-color);\n",
              "      border-left-color: var(--fill-color);\n",
              "    }\n",
              "    20% {\n",
              "      border-color: transparent;\n",
              "      border-left-color: var(--fill-color);\n",
              "      border-top-color: var(--fill-color);\n",
              "    }\n",
              "    30% {\n",
              "      border-color: transparent;\n",
              "      border-left-color: var(--fill-color);\n",
              "      border-top-color: var(--fill-color);\n",
              "      border-right-color: var(--fill-color);\n",
              "    }\n",
              "    40% {\n",
              "      border-color: transparent;\n",
              "      border-right-color: var(--fill-color);\n",
              "      border-top-color: var(--fill-color);\n",
              "    }\n",
              "    60% {\n",
              "      border-color: transparent;\n",
              "      border-right-color: var(--fill-color);\n",
              "    }\n",
              "    80% {\n",
              "      border-color: transparent;\n",
              "      border-right-color: var(--fill-color);\n",
              "      border-bottom-color: var(--fill-color);\n",
              "    }\n",
              "    90% {\n",
              "      border-color: transparent;\n",
              "      border-bottom-color: var(--fill-color);\n",
              "    }\n",
              "  }\n",
              "</style>\n",
              "\n",
              "  <script>\n",
              "    async function quickchart(key) {\n",
              "      const quickchartButtonEl =\n",
              "        document.querySelector('#' + key + ' button');\n",
              "      quickchartButtonEl.disabled = true;  // To prevent multiple clicks.\n",
              "      quickchartButtonEl.classList.add('colab-df-spinner');\n",
              "      try {\n",
              "        const charts = await google.colab.kernel.invokeFunction(\n",
              "            'suggestCharts', [key], {});\n",
              "      } catch (error) {\n",
              "        console.error('Error during call to suggestCharts:', error);\n",
              "      }\n",
              "      quickchartButtonEl.classList.remove('colab-df-spinner');\n",
              "      quickchartButtonEl.classList.add('colab-df-quickchart-complete');\n",
              "    }\n",
              "    (() => {\n",
              "      let quickchartButtonEl =\n",
              "        document.querySelector('#df-02019b4e-f7d4-4310-9e8f-92d32b2734ab button');\n",
              "      quickchartButtonEl.style.display =\n",
              "        google.colab.kernel.accessAllowed ? 'block' : 'none';\n",
              "    })();\n",
              "  </script>\n",
              "</div>\n",
              "\n",
              "    </div>\n",
              "  </div>\n"
            ],
            "application/vnd.google.colaboratory.intrinsic+json": {
              "type": "dataframe",
              "summary": "{\n  \"name\": \"df\",\n  \"rows\": 8,\n  \"fields\": [\n    {\n      \"column\": \"height\",\n      \"properties\": {\n        \"dtype\": \"number\",\n        \"std\": 3747.405659149188,\n        \"min\": 6.969818188670947,\n        \"max\": 10754.0,\n        \"num_unique_values\": 8,\n        \"samples\": [\n          181.24035291761206,\n          181.2403529,\n          10754.0\n        ],\n        \"semantic_type\": \"\",\n        \"description\": \"\"\n      }\n    },\n    {\n      \"column\": \"age\",\n      \"properties\": {\n        \"dtype\": \"number\",\n        \"std\": 3793.753977259435,\n        \"min\": 4.777628742246729,\n        \"max\": 10754.0,\n        \"num_unique_values\": 8,\n        \"samples\": [\n          26.04190334295146,\n          26.0,\n          10754.0\n        ],\n        \"semantic_type\": \"\",\n        \"description\": \"\"\n      }\n    },\n    {\n      \"column\": \"appearance\",\n      \"properties\": {\n        \"dtype\": \"number\",\n        \"std\": 3788.316905924267,\n        \"min\": 0.0,\n        \"max\": 10754.0,\n        \"num_unique_values\": 8,\n        \"samples\": [\n          36.40701134461596,\n          35.0,\n          10754.0\n        ],\n        \"semantic_type\": \"\",\n        \"description\": \"\"\n      }\n    },\n    {\n      \"column\": \"goals\",\n      \"properties\": {\n        \"dtype\": \"number\",\n        \"std\": 3801.517693338392,\n        \"min\": 0.0,\n        \"max\": 10754.0,\n        \"num_unique_values\": 7,\n        \"samples\": [\n          10754.0,\n          0.12555431571759346,\n          0.172262541\n        ],\n        \"semantic_type\": \"\",\n        \"description\": \"\"\n      }\n    },\n    {\n      \"column\": \"assists\",\n      \"properties\": {\n        \"dtype\": \"number\",\n        \"std\": 3801.890964247157,\n        \"min\": 0.0,\n        \"max\": 10754.0,\n        \"num_unique_values\": 7,\n        \"samples\": [\n          10754.0,\n          0.08697764630537475,\n          0.133136095\n        ],\n        \"semantic_type\": \"\",\n        \"description\": \"\"\n      }\n    },\n    {\n      \"column\": \"yellow cards\",\n      \"properties\": {\n        \"dtype\": \"number\",\n        \"std\": 3800.558023528649,\n        \"min\": 0.0,\n        \"max\": 10754.0,\n        \"num_unique_values\": 8,\n        \"samples\": [\n          0.18975722693965036,\n          0.150250417,\n          10754.0\n        ],\n        \"semantic_type\": \"\",\n        \"description\": \"\"\n      }\n    },\n    {\n      \"column\": \"second yellow cards\",\n      \"properties\": {\n        \"dtype\": \"number\",\n        \"std\": 3802.061160704924,\n        \"min\": 0.0,\n        \"max\": 10754.0,\n        \"num_unique_values\": 5,\n        \"samples\": [\n          0.004665666884787057,\n          1.0,\n          0.025232003267754176\n        ],\n        \"semantic_type\": \"\",\n        \"description\": \"\"\n      }\n    },\n    {\n      \"column\": \"red cards\",\n      \"properties\": {\n        \"dtype\": \"number\",\n        \"std\": 3801.759819854844,\n        \"min\": 0.0,\n        \"max\": 10754.0,\n        \"num_unique_values\": 5,\n        \"samples\": [\n          0.006826069735075321,\n          6.923076923,\n          0.08114266117202969\n        ],\n        \"semantic_type\": \"\",\n        \"description\": \"\"\n      }\n    },\n    {\n      \"column\": \"goals conceded\",\n      \"properties\": {\n        \"dtype\": \"number\",\n        \"std\": 3801.630882749067,\n        \"min\": 0.0,\n        \"max\": 10754.0,\n        \"num_unique_values\": 5,\n        \"samples\": [\n          0.13165546789380694,\n          9.0,\n          0.44233546789402517\n        ],\n        \"semantic_type\": \"\",\n        \"description\": \"\"\n      }\n    },\n    {\n      \"column\": \"clean sheets\",\n      \"properties\": {\n        \"dtype\": \"number\",\n        \"std\": 3797.648650669289,\n        \"min\": 0.0,\n        \"max\": 10754.0,\n        \"num_unique_values\": 5,\n        \"samples\": [\n          0.0448808990385903,\n          90.0,\n          0.924437300692752\n        ],\n        \"semantic_type\": \"\",\n        \"description\": \"\"\n      }\n    },\n    {\n      \"column\": \"minutes played\",\n      \"properties\": {\n        \"dtype\": \"number\",\n        \"std\": 4017.0468874347075,\n        \"min\": 0.0,\n        \"max\": 10754.0,\n        \"num_unique_values\": 8,\n        \"samples\": [\n          2470.7893806955553,\n          2101.5,\n          10754.0\n        ],\n        \"semantic_type\": \"\",\n        \"description\": \"\"\n      }\n    },\n    {\n      \"column\": \"days_injured\",\n      \"properties\": {\n        \"dtype\": \"number\",\n        \"std\": 3743.124389101437,\n        \"min\": 0.0,\n        \"max\": 10754.0,\n        \"num_unique_values\": 7,\n        \"samples\": [\n          10754.0,\n          117.96168867398177,\n          181.0\n        ],\n        \"semantic_type\": \"\",\n        \"description\": \"\"\n      }\n    },\n    {\n      \"column\": \"games_injured\",\n      \"properties\": {\n        \"dtype\": \"number\",\n        \"std\": 3783.2952275460334,\n        \"min\": 0.0,\n        \"max\": 10754.0,\n        \"num_unique_values\": 7,\n        \"samples\": [\n          10754.0,\n          15.826297191742608,\n          24.0\n        ],\n        \"semantic_type\": \"\",\n        \"description\": \"\"\n      }\n    },\n    {\n      \"column\": \"award\",\n      \"properties\": {\n        \"dtype\": \"number\",\n        \"std\": 3797.1592033535103,\n        \"min\": 0.0,\n        \"max\": 10754.0,\n        \"num_unique_values\": 7,\n        \"samples\": [\n          10754.0,\n          1.9607587874279337,\n          2.0\n        ],\n        \"semantic_type\": \"\",\n        \"description\": \"\"\n      }\n    },\n    {\n      \"column\": \"current_value\",\n      \"properties\": {\n        \"dtype\": \"number\",\n        \"std\": 62863649.47111519,\n        \"min\": 0.0,\n        \"max\": 180000000.0,\n        \"num_unique_values\": 8,\n        \"samples\": [\n          3622970.98753952,\n          800000.0,\n          10754.0\n        ],\n        \"semantic_type\": \"\",\n        \"description\": \"\"\n      }\n    },\n    {\n      \"column\": \"highest_value\",\n      \"properties\": {\n        \"dtype\": \"number\",\n        \"std\": 69520430.1459386,\n        \"min\": 0.0,\n        \"max\": 200000000.0,\n        \"num_unique_values\": 8,\n        \"samples\": [\n          6152606.007067137,\n          1500000.0,\n          10754.0\n        ],\n        \"semantic_type\": \"\",\n        \"description\": \"\"\n      }\n    },\n    {\n      \"column\": \"position_encoded\",\n      \"properties\": {\n        \"dtype\": \"number\",\n        \"std\": 3801.2193787229,\n        \"min\": 0.9863562729697156,\n        \"max\": 10754.0,\n        \"num_unique_values\": 7,\n        \"samples\": [\n          10754.0,\n          2.713222986795611,\n          3.0\n        ],\n        \"semantic_type\": \"\",\n        \"description\": \"\"\n      }\n    },\n    {\n      \"column\": \"winger\",\n      \"properties\": {\n        \"dtype\": \"number\",\n        \"std\": 3801.973329652134,\n        \"min\": 0.0,\n        \"max\": 10754.0,\n        \"num_unique_values\": 5,\n        \"samples\": [\n          0.3075134833550307,\n          1.0,\n          0.46148536768471093\n        ],\n        \"semantic_type\": \"\",\n        \"description\": \"\"\n      }\n    }\n  ]\n}"
            }
          },
          "metadata": {},
          "execution_count": 204
        }
      ]
    },
    {
      "cell_type": "markdown",
      "source": [],
      "metadata": {
        "id": "ZfeHwqv7h_Pc"
      },
      "id": "ZfeHwqv7h_Pc"
    },
    {
      "cell_type": "markdown",
      "id": "834929aa-fd6a-4ec5-84d4-77c4b3c1a506",
      "metadata": {
        "id": "834929aa-fd6a-4ec5-84d4-77c4b3c1a506"
      },
      "source": [
        "The process of profiling differs slightly for categorical and numerical variables due to their inherent differences.\n",
        "\n",
        "**The two main types of data are:**\n",
        "- Quantitative (numerical) data\n",
        "- Qualitative (categorical) data"
      ]
    },
    {
      "cell_type": "markdown",
      "id": "3a9954f5-6fbc-45b4-ad86-3e21b6e0ca2d",
      "metadata": {
        "id": "3a9954f5-6fbc-45b4-ad86-3e21b6e0ca2d"
      },
      "source": [
        "### Data Quality Checks\n",
        "Data quality checks involve the process of ensuring that the data is accurate, complete, consistent, relevant, and reliable.\n",
        "\n",
        "\n",
        "**Here are typical steps involved in checking data quality:**"
      ]
    },
    {
      "cell_type": "markdown",
      "id": "4818c876-173d-4e56-9e7d-b4334d2def25",
      "metadata": {
        "id": "4818c876-173d-4e56-9e7d-b4334d2def25"
      },
      "source": [
        "#### 1. Reliability:\n",
        "Evaluate the data's source and collection process to determine its trustworthiness."
      ]
    },
    {
      "cell_type": "markdown",
      "source": [
        "The data was scraped from `Transfermarkt`, a globally renowned website that collects information about football players, clubs, transfers, statistics, and market values. It is widely relied upon by sports journalists, data analysts, and clubs to obtain insights into the transfer market and player performance."
      ],
      "metadata": {
        "id": "CDhqsugUYA8u"
      },
      "id": "CDhqsugUYA8u"
    },
    {
      "cell_type": "markdown",
      "id": "2ce0cc59-8c92-4acc-8d07-c40764e1a86b",
      "metadata": {
        "id": "2ce0cc59-8c92-4acc-8d07-c40764e1a86b"
      },
      "source": [
        "#### 2. Timeliness:\n",
        "Ensure the data is up-to-date and reflective of the current situation or the period of interest for the analysis."
      ]
    },
    {
      "cell_type": "markdown",
      "source": [
        "The data reflects the period of interest for the analysis. The period covers two seasons: 2021-2022 and 2022-2023.\n",
        "\n"
      ],
      "metadata": {
        "id": "Ztf5BDnGY_6u"
      },
      "id": "Ztf5BDnGY_6u"
    },
    {
      "cell_type": "markdown",
      "source": [
        "# New Section"
      ],
      "metadata": {
        "id": "OmKZ5XFpqrZb"
      },
      "id": "OmKZ5XFpqrZb"
    },
    {
      "cell_type": "markdown",
      "id": "7fab0fe2-6624-4615-b9d8-3c3669056bf8",
      "metadata": {
        "id": "7fab0fe2-6624-4615-b9d8-3c3669056bf8"
      },
      "source": [
        "#### 3. Consistency:\n",
        "\n",
        "Confirm that the data is consistent within the dataset and across multiple data sources. For example, the same data point should not have different values in different places.\n"
      ]
    },
    {
      "cell_type": "markdown",
      "source": [
        "The data is consistent since it only one data source."
      ],
      "metadata": {
        "id": "Tg-ziMH5ir7a"
      },
      "id": "Tg-ziMH5ir7a"
    },
    {
      "cell_type": "code",
      "execution_count": 204,
      "id": "7fecc573-959f-4800-8ddd-a67985c68b18",
      "metadata": {
        "id": "7fecc573-959f-4800-8ddd-a67985c68b18"
      },
      "outputs": [],
      "source": []
    },
    {
      "cell_type": "markdown",
      "id": "bec3d183-bba0-4b12-b963-487daab1e876",
      "metadata": {
        "id": "bec3d183-bba0-4b12-b963-487daab1e876"
      },
      "source": [
        "#### 4. Relevance:\n",
        "Assess whether the data is appropriate and applicable for the intended analysis. Data that is not relevant can skew results and lead to incorrect conclusions.\n",
        "\n",
        "**Key considerations for relevance include:**\n",
        "\n",
        "> 1. Sample Appropriateness: Confirm that your data sample aligns with your analysis objectives. For instance, utilizing data from the Northern region will not yield accurate insights for the Western region of the Kingdom.\n",
        ">\n",
        "> 2. Variable Selection: Any column will not be relevant for our analysis, we can get rid of these using the drop() method. We will set the “axis” argument to 1 since we’re dealing with columns, and set the “inplace” argument to True to make the change permanent.\n"
      ]
    },
    {
      "cell_type": "markdown",
      "source": [
        "**1- Sample Appropriateness:**\n",
        "\n",
        "The data sample aligns with our analysis objectives. It's about the players data and in the specified period of time.\n",
        "\n",
        "**2- Variable Selection:**\n",
        "\n",
        "All columns are important and relevant to our anlaysis objectives. No need for drop any column."
      ],
      "metadata": {
        "id": "CGQrQDGyi7AV"
      },
      "id": "CGQrQDGyi7AV"
    },
    {
      "cell_type": "markdown",
      "id": "0f5e3a2a-bbb7-4d06-8220-c93277b70146",
      "metadata": {
        "id": "0f5e3a2a-bbb7-4d06-8220-c93277b70146"
      },
      "source": [
        "#### 5. Uniqueness:\n",
        "Check for and remove duplicate records to prevent skewed analysis results.\n"
      ]
    },
    {
      "cell_type": "code",
      "execution_count": 205,
      "id": "a509a7aa-58f4-4d39-8eb8-e8298a21f2a7",
      "metadata": {
        "colab": {
          "base_uri": "https://localhost:8080/"
        },
        "id": "a509a7aa-58f4-4d39-8eb8-e8298a21f2a7",
        "outputId": "9b05d2bc-f7cd-4513-edb8-4df9d087d0ab"
      },
      "outputs": [
        {
          "output_type": "execute_result",
          "data": {
            "text/plain": [
              "0"
            ]
          },
          "metadata": {},
          "execution_count": 205
        }
      ],
      "source": [
        "df.duplicated().sum()"
      ]
    },
    {
      "cell_type": "code",
      "execution_count": 206,
      "id": "04c62559-3b48-48cf-a4e9-857e2e0ff416",
      "metadata": {
        "id": "04c62559-3b48-48cf-a4e9-857e2e0ff416"
      },
      "outputs": [],
      "source": [
        "# no duplicate rows"
      ]
    },
    {
      "cell_type": "markdown",
      "id": "c7724ac2-4ea2-4cf4-a9e0-e64368f87b92",
      "metadata": {
        "id": "c7724ac2-4ea2-4cf4-a9e0-e64368f87b92"
      },
      "source": [
        "#### 6. Completeness:\n",
        "Ensure that no critical data is missing. This might mean checking for null values or required fields that are empty.\n",
        "\n",
        "We will start by checking the dataset for missing or null values. For this, we can use the isna() method which returns a dataframe of boolean values indicating if a field is null or not. To group all missing values by column, we can include the sum() method."
      ]
    },
    {
      "cell_type": "code",
      "execution_count": 207,
      "id": "48a4de54-a344-4b94-9908-9528c15c13f7",
      "metadata": {
        "colab": {
          "base_uri": "https://localhost:8080/",
          "height": 0
        },
        "id": "48a4de54-a344-4b94-9908-9528c15c13f7",
        "outputId": "802cb279-8734-47d2-9e4a-05f286bed432"
      },
      "outputs": [
        {
          "output_type": "execute_result",
          "data": {
            "text/plain": [
              "player                 0\n",
              "team                   0\n",
              "name                   0\n",
              "position               0\n",
              "height                 0\n",
              "age                    0\n",
              "appearance             0\n",
              "goals                  0\n",
              "assists                0\n",
              "yellow cards           0\n",
              "second yellow cards    0\n",
              "red cards              0\n",
              "goals conceded         0\n",
              "clean sheets           0\n",
              "minutes played         0\n",
              "days_injured           0\n",
              "games_injured          0\n",
              "award                  0\n",
              "current_value          0\n",
              "highest_value          0\n",
              "position_encoded       0\n",
              "winger                 0\n",
              "dtype: int64"
            ],
            "text/html": [
              "<div>\n",
              "<style scoped>\n",
              "    .dataframe tbody tr th:only-of-type {\n",
              "        vertical-align: middle;\n",
              "    }\n",
              "\n",
              "    .dataframe tbody tr th {\n",
              "        vertical-align: top;\n",
              "    }\n",
              "\n",
              "    .dataframe thead th {\n",
              "        text-align: right;\n",
              "    }\n",
              "</style>\n",
              "<table border=\"1\" class=\"dataframe\">\n",
              "  <thead>\n",
              "    <tr style=\"text-align: right;\">\n",
              "      <th></th>\n",
              "      <th>0</th>\n",
              "    </tr>\n",
              "  </thead>\n",
              "  <tbody>\n",
              "    <tr>\n",
              "      <th>player</th>\n",
              "      <td>0</td>\n",
              "    </tr>\n",
              "    <tr>\n",
              "      <th>team</th>\n",
              "      <td>0</td>\n",
              "    </tr>\n",
              "    <tr>\n",
              "      <th>name</th>\n",
              "      <td>0</td>\n",
              "    </tr>\n",
              "    <tr>\n",
              "      <th>position</th>\n",
              "      <td>0</td>\n",
              "    </tr>\n",
              "    <tr>\n",
              "      <th>height</th>\n",
              "      <td>0</td>\n",
              "    </tr>\n",
              "    <tr>\n",
              "      <th>age</th>\n",
              "      <td>0</td>\n",
              "    </tr>\n",
              "    <tr>\n",
              "      <th>appearance</th>\n",
              "      <td>0</td>\n",
              "    </tr>\n",
              "    <tr>\n",
              "      <th>goals</th>\n",
              "      <td>0</td>\n",
              "    </tr>\n",
              "    <tr>\n",
              "      <th>assists</th>\n",
              "      <td>0</td>\n",
              "    </tr>\n",
              "    <tr>\n",
              "      <th>yellow cards</th>\n",
              "      <td>0</td>\n",
              "    </tr>\n",
              "    <tr>\n",
              "      <th>second yellow cards</th>\n",
              "      <td>0</td>\n",
              "    </tr>\n",
              "    <tr>\n",
              "      <th>red cards</th>\n",
              "      <td>0</td>\n",
              "    </tr>\n",
              "    <tr>\n",
              "      <th>goals conceded</th>\n",
              "      <td>0</td>\n",
              "    </tr>\n",
              "    <tr>\n",
              "      <th>clean sheets</th>\n",
              "      <td>0</td>\n",
              "    </tr>\n",
              "    <tr>\n",
              "      <th>minutes played</th>\n",
              "      <td>0</td>\n",
              "    </tr>\n",
              "    <tr>\n",
              "      <th>days_injured</th>\n",
              "      <td>0</td>\n",
              "    </tr>\n",
              "    <tr>\n",
              "      <th>games_injured</th>\n",
              "      <td>0</td>\n",
              "    </tr>\n",
              "    <tr>\n",
              "      <th>award</th>\n",
              "      <td>0</td>\n",
              "    </tr>\n",
              "    <tr>\n",
              "      <th>current_value</th>\n",
              "      <td>0</td>\n",
              "    </tr>\n",
              "    <tr>\n",
              "      <th>highest_value</th>\n",
              "      <td>0</td>\n",
              "    </tr>\n",
              "    <tr>\n",
              "      <th>position_encoded</th>\n",
              "      <td>0</td>\n",
              "    </tr>\n",
              "    <tr>\n",
              "      <th>winger</th>\n",
              "      <td>0</td>\n",
              "    </tr>\n",
              "  </tbody>\n",
              "</table>\n",
              "</div><br><label><b>dtype:</b> int64</label>"
            ]
          },
          "metadata": {},
          "execution_count": 207
        }
      ],
      "source": [
        "#Display number missing values per column\n",
        "df.isnull().sum()"
      ]
    },
    {
      "cell_type": "code",
      "execution_count": 208,
      "id": "abec31c4-0904-4b73-8cee-b7bc14ab1e67",
      "metadata": {
        "id": "abec31c4-0904-4b73-8cee-b7bc14ab1e67"
      },
      "outputs": [],
      "source": [
        "# no missing values"
      ]
    },
    {
      "cell_type": "markdown",
      "id": "b40de63c-5a1d-49ed-a87e-c5229ee08bbe",
      "metadata": {
        "id": "b40de63c-5a1d-49ed-a87e-c5229ee08bbe"
      },
      "source": [
        "#### 7. Check Accuracy:\n",
        "\n",
        "Verify that the data is correct and precise. This could involve comparing data samples with known sources or using validation rules.\n",
        "\n",
        "**The process includes:**\n",
        "1. Validating the appropriateness of data types for the dataset.\n",
        "2. Identifying outliers  using established validation  rule"
      ]
    },
    {
      "cell_type": "code",
      "execution_count": 209,
      "id": "68be5334-ae10-4abd-8097-3259fe5e72c8",
      "metadata": {
        "colab": {
          "base_uri": "https://localhost:8080/",
          "height": 0
        },
        "id": "68be5334-ae10-4abd-8097-3259fe5e72c8",
        "outputId": "c457d199-bf9b-42c7-e912-60ee69bb0768"
      },
      "outputs": [
        {
          "output_type": "execute_result",
          "data": {
            "text/plain": [
              "player                  object\n",
              "team                    object\n",
              "name                    object\n",
              "position                object\n",
              "height                 float64\n",
              "age                    float64\n",
              "appearance               int64\n",
              "goals                  float64\n",
              "assists                float64\n",
              "yellow cards           float64\n",
              "second yellow cards    float64\n",
              "red cards              float64\n",
              "goals conceded         float64\n",
              "clean sheets           float64\n",
              "minutes played           int64\n",
              "days_injured             int64\n",
              "games_injured            int64\n",
              "award                    int64\n",
              "current_value            int64\n",
              "highest_value            int64\n",
              "position_encoded         int64\n",
              "winger                   int64\n",
              "dtype: object"
            ],
            "text/html": [
              "<div>\n",
              "<style scoped>\n",
              "    .dataframe tbody tr th:only-of-type {\n",
              "        vertical-align: middle;\n",
              "    }\n",
              "\n",
              "    .dataframe tbody tr th {\n",
              "        vertical-align: top;\n",
              "    }\n",
              "\n",
              "    .dataframe thead th {\n",
              "        text-align: right;\n",
              "    }\n",
              "</style>\n",
              "<table border=\"1\" class=\"dataframe\">\n",
              "  <thead>\n",
              "    <tr style=\"text-align: right;\">\n",
              "      <th></th>\n",
              "      <th>0</th>\n",
              "    </tr>\n",
              "  </thead>\n",
              "  <tbody>\n",
              "    <tr>\n",
              "      <th>player</th>\n",
              "      <td>object</td>\n",
              "    </tr>\n",
              "    <tr>\n",
              "      <th>team</th>\n",
              "      <td>object</td>\n",
              "    </tr>\n",
              "    <tr>\n",
              "      <th>name</th>\n",
              "      <td>object</td>\n",
              "    </tr>\n",
              "    <tr>\n",
              "      <th>position</th>\n",
              "      <td>object</td>\n",
              "    </tr>\n",
              "    <tr>\n",
              "      <th>height</th>\n",
              "      <td>float64</td>\n",
              "    </tr>\n",
              "    <tr>\n",
              "      <th>age</th>\n",
              "      <td>float64</td>\n",
              "    </tr>\n",
              "    <tr>\n",
              "      <th>appearance</th>\n",
              "      <td>int64</td>\n",
              "    </tr>\n",
              "    <tr>\n",
              "      <th>goals</th>\n",
              "      <td>float64</td>\n",
              "    </tr>\n",
              "    <tr>\n",
              "      <th>assists</th>\n",
              "      <td>float64</td>\n",
              "    </tr>\n",
              "    <tr>\n",
              "      <th>yellow cards</th>\n",
              "      <td>float64</td>\n",
              "    </tr>\n",
              "    <tr>\n",
              "      <th>second yellow cards</th>\n",
              "      <td>float64</td>\n",
              "    </tr>\n",
              "    <tr>\n",
              "      <th>red cards</th>\n",
              "      <td>float64</td>\n",
              "    </tr>\n",
              "    <tr>\n",
              "      <th>goals conceded</th>\n",
              "      <td>float64</td>\n",
              "    </tr>\n",
              "    <tr>\n",
              "      <th>clean sheets</th>\n",
              "      <td>float64</td>\n",
              "    </tr>\n",
              "    <tr>\n",
              "      <th>minutes played</th>\n",
              "      <td>int64</td>\n",
              "    </tr>\n",
              "    <tr>\n",
              "      <th>days_injured</th>\n",
              "      <td>int64</td>\n",
              "    </tr>\n",
              "    <tr>\n",
              "      <th>games_injured</th>\n",
              "      <td>int64</td>\n",
              "    </tr>\n",
              "    <tr>\n",
              "      <th>award</th>\n",
              "      <td>int64</td>\n",
              "    </tr>\n",
              "    <tr>\n",
              "      <th>current_value</th>\n",
              "      <td>int64</td>\n",
              "    </tr>\n",
              "    <tr>\n",
              "      <th>highest_value</th>\n",
              "      <td>int64</td>\n",
              "    </tr>\n",
              "    <tr>\n",
              "      <th>position_encoded</th>\n",
              "      <td>int64</td>\n",
              "    </tr>\n",
              "    <tr>\n",
              "      <th>winger</th>\n",
              "      <td>int64</td>\n",
              "    </tr>\n",
              "  </tbody>\n",
              "</table>\n",
              "</div><br><label><b>dtype:</b> object</label>"
            ]
          },
          "metadata": {},
          "execution_count": 209
        }
      ],
      "source": [
        "# check columns types\n",
        "df.dtypes"
      ]
    },
    {
      "cell_type": "code",
      "execution_count": 210,
      "id": "2ee790ba-dcc0-45f1-b6f8-0133e913e149",
      "metadata": {
        "id": "2ee790ba-dcc0-45f1-b6f8-0133e913e149"
      },
      "outputs": [],
      "source": [
        "# data types are correct for all columns"
      ]
    },
    {
      "cell_type": "code",
      "execution_count": 211,
      "id": "c69b303a-5459-45f9-a28e-fcee45c21c05",
      "metadata": {
        "id": "c69b303a-5459-45f9-a28e-fcee45c21c05"
      },
      "outputs": [],
      "source": [
        "# check outliers"
      ]
    },
    {
      "cell_type": "code",
      "source": [
        "football_color_palette = {\n",
        "    \"light_gray\": \"#ebe1e1\",\n",
        "    \"medium_gray\": \"#a49d9d\",\n",
        "    \"white\": \"#ffffff\",\n",
        "    \"dark_brown\": \"#5c4732\",\n",
        "    \"darker_brown\": \"#403123\",\n",
        "    \"warm_brown\": \"#775c41\",\n",
        "    \"soft_brown\": \"#9c7b68\",\n",
        "    \"deep_brown\": \"#6d5648\",\n",
        "    \"peach_brown\": \"#ca9f87\",\n",
        "    \"soft_green\": \"#819981\",\n",
        "    \"deep_green\": \"#5a6b5a\",\n",
        "    \"light_green\": \"#a7c6a7\",\n",
        "    \"warm_orange\": \"#b47c3d\",\n",
        "    \"dark_orange\": \"#7d562a\",\n",
        "    \"bright_orange\": \"#eaa14f\",\n",
        "    \"earthy_gray\": \"#727151\",\n",
        "    \"deep_olive\": \"#4f4f38\",\n",
        "    \"muted_olive\": \"#949269\",\n",
        "    \"sage_green\": \"#a2b28d\",\n",
        "    \"forest_green\": \"#717c62\"\n",
        "}"
      ],
      "metadata": {
        "id": "_s81cs30Xo2K"
      },
      "id": "_s81cs30Xo2K",
      "execution_count": 212,
      "outputs": []
    },
    {
      "cell_type": "code",
      "source": [
        "# Choose the color from `football_color_palette`\n",
        "outlier_color = football_color_palette[\"bright_orange\"]\n",
        "box_color = football_color_palette[\"deep_green\"]\n",
        "\n",
        "# Choose only numerical features to analyze outliers\n",
        "numeric_columns = df.select_dtypes(include=[np.number]).columns\n",
        "\n",
        "# Box-plot to check the outliers for each column\n",
        "num_cols = len(numeric_columns)\n",
        "fig, axes = plt.subplots(nrows=num_cols, figsize=(8, num_cols * 3))\n",
        "\n",
        "for i, col in enumerate(numeric_columns):\n",
        "    sns.boxplot(x=df[col], color=box_color,\n",
        "                flierprops={\"markerfacecolor\": outlier_color, \"marker\": \"o\"}, ax=axes[i])\n",
        "    axes[i].set_title(f\"Outliers in {col}\", fontsize=12, fontweight='bold', color=football_color_palette[\"dark_brown\"])\n",
        "    axes[i].grid(True, linestyle=\"--\", alpha=0.5)\n",
        "\n",
        "plt.tight_layout()\n",
        "plt.show()"
      ],
      "metadata": {
        "colab": {
          "base_uri": "https://localhost:8080/",
          "height": 0
        },
        "id": "VPNZH1SenwIx",
        "outputId": "98ae61c9-b397-4e5b-faa6-4c4ebee8c4b9"
      },
      "id": "VPNZH1SenwIx",
      "execution_count": 213,
      "outputs": [
        {
          "output_type": "display_data",
          "data": {
            "text/plain": [
              "<Figure size 800x5400 with 18 Axes>"
            ],
            "image/png": "[encoded data removed]"
          },
          "metadata": {}
        }
      ]
    },
    {
      "cell_type": "code",
      "source": [
        "\n",
        "# إزالة القيم الشاذة باستخدام النسبة المئوية 95%\n",
        "def remove_outliers(df, columns):\n",
        "    for col in columns:\n",
        "        upper_limit = df[col].quantile(0.95)\n",
        "        df = df[df[col] <= upper_limit]\n",
        "    return df\n",
        "\n",
        "# حفظ نسخة من البيانات الأصلية قبل إزالة القيم الشاذة\n",
        "df_original = df.copy()\n",
        "\n",
        "# تطبيق إزالة القيم الشاذة\n",
        "df_cleaned = remove_outliers(df, numeric_columns)\n",
        "\n",
        "# رسم المخططات البيانية (Histogram) لكل عمود قبل وبعد إزالة القيم الشاذة في subplot\n",
        "num_cols = len(numeric_columns)\n",
        "fig, axes = plt.subplots(nrows=num_cols, ncols=2, figsize=(12, num_cols * 3))\n",
        "\n",
        "for i, col in enumerate(numeric_columns):\n",
        "    # الرسم قبل إزالة القيم الشاذة (يسار)\n",
        "    sns.histplot(df_original[col], bins=30, kde=True, color=football_color_palette[\"warm_orange\"], ax=axes[i, 0])\n",
        "    axes[i, 0].set_title(f\"Before Removing Outliers: {col}\", fontsize=12, fontweight='bold', color=football_color_palette[\"dark_brown\"])\n",
        "    axes[i, 0].grid(True, linestyle=\"--\", alpha=0.5)\n",
        "\n",
        "    # الرسم بعد إزالة القيم الشاذة (يمين)\n",
        "    sns.histplot(df_cleaned[col], bins=30, kde=True, color=football_color_palette[\"deep_green\"], ax=axes[i, 1])\n",
        "    axes[i, 1].set_title(f\"After Removing Outliers: {col}\", fontsize=12, fontweight='bold', color=football_color_palette[\"dark_brown\"])\n",
        "    axes[i, 1].grid(True, linestyle=\"--\", alpha=0.5)\n",
        "\n",
        "plt.tight_layout()\n",
        "plt.show()"
      ],
      "metadata": {
        "id": "duKIcbBqtlRB"
      },
      "id": "duKIcbBqtlRB",
      "execution_count": null,
      "outputs": []
    },
    {
      "cell_type": "markdown",
      "source": [
        "**Insights:**\n",
        "- `For Players Hieght`:\n",
        "\n",
        "  - After removing outliers using the 95% percentile, the height distribution is now concentrated below 190 cm.\n",
        "  - This aligns with the typical height range for most professional football players, excluding exceptionally tall goalkeepers and defenders.\n",
        "  - Before removal, the dataset contained some extremely tall players (above 190 cm), likely goalkeepers or rare cases.\n",
        "  - Now, the dataset represents a more balanced distribution, focusing on the majority of players rather than extreme cases.\n",
        "  - The natural height range for most football players falls below 190 cm, and the dataset now better represents the standard physical profile of professional players.\n",
        "\n",
        "- `For Players Age`:\n",
        "  - After removing outliers using the 95% percentile, the maximum age is now around 32-33 years.\n",
        "  - This aligns with the typical peak performance range for most professional football players.\n",
        "  - Before removal, the dataset contained some extremely old players (above 40 years), which are rare exceptions.\n",
        "  - Now, the dataset focuses on the prime playing years (18-32), where most players are active and competitive.\n",
        "  - The age distribution is now more realistic for evaluating player performance and market value.\n",
        "  - The natural career span of a professional football player typically ranges between 18-32 years, and the dataset now better reflects the core age group of active players.\n",
        "\n",
        "- `For Players Appearance`:\n",
        "  - After removing outliers using the 95% percentile, the maximum number of appearances is now significantly reduced.\n",
        "  - This aligns with the expected match participation for most professional players over a reasonable period.\n",
        "  - Before removal, the dataset included players with an extremely high number of appearances, which may represent long-serving veterans or statistical anomalies.\n",
        "  - Now, the dataset focuses on the majority of players, ensuring that the appearance distribution is more balanced.\n",
        "  - The dataset now better represents typical player career lengths, reducing the impact of rare cases that might skew overall statistics.\n",
        "  - The number of appearances now better reflects the typical career participation of football players, improving the reliability of performance and career progression analysis.\n",
        "\n",
        "- `For Goals`:\n",
        "  - Before removing outliers, the goal distribution had a long tail, with some players having exceptionally high goal-per-game ratios.\n",
        "  - After removing outliers using the 95% percentile, the dataset now focuses on players with goal ratios below ~0.35 per game.\n",
        "  - The distribution remains right-skewed, meaning most players score very few goals.\n",
        "  - Players with extremely high goal-scoring ratios (rare elite strikers) were removed to make the dataset more balanced.\n",
        "  - The concentration of players with 0 goals remains high, likely due to a large number of defenders and midfielders in the dataset.\n",
        "  - The dataset now better represents typical goal-scoring rates, excluding rare prolific scorers.\n",
        "  - The goal distribution remains highly skewed, with most players scoring very few goals. The removal of extreme outliers ensures that the analysis focuses on typical goal-scoring patterns rather than rare, high-performing exceptions.\n",
        "\n",
        "- `For Assists`:\n",
        "  - Before removing outliers, the assist distribution was highly right-skewed, with a few players having exceptionally high assist rates.\n",
        "  - After applying the 95% percentile filter, the dataset now focuses on players with assist ratios below ~0.20 per game, removing extreme cases.\n",
        "  - A large portion of players still have 0 assists, which is expected as many players (especially defenders and goalkeepers) do not contribute assists.\n",
        "  - Players with very high assist-per-game ratios were removed, resulting in a more balanced dataset.\n",
        "  - The distribution remains positively skewed, but now better represents the general population rather than rare playmakers.\n",
        "  - The assist distribution is now more aligned with the average player, reducing bias from outliers who create an exceptionally high number of assists.\n",
        "  \n",
        "- `For Yellow Cards`:\n",
        "  - Before removing outliers, the yellow card distribution was right-skewed, with a few players accumulating an exceptionally high number of cards.\n",
        "  - After applying the 95% percentile filter, the dataset now focuses on players receiving fewer than ~0.35 yellow cards per game, eliminating extreme disciplinary cases.\n",
        "  - A large portion of players still have 0 yellow cards, as many positions (e.g., goalkeepers, certain midfielders) receive few to no bookings.\n",
        "  - The long tail of high yellow-card accumulators was reduced, making the distribution more balanced.\n",
        "  - The density of players with moderate yellow card counts is now more apparent, improving the analysis of typical disciplinary trends.\n",
        "  - The dataset now better represents typical yellow card accumulation, reducing bias from aggressive defenders or midfielders who frequently get booked.\n",
        "\n",
        "- `For Second Yellow Cards`:\n",
        "  - Before removing outliers, the distribution was highly right-skewed, meaning very few players received a second yellow card in a match.\n",
        "  - The vast majority of players never received a second yellow card, causing a strong peak at zero.\n",
        "  - After applying the 95% percentile filter, only typical values remain, but the distribution appears largely unchanged.\n",
        "  - Since receiving a second yellow card is a rare event, most values were already concentrated around zero.\n",
        "  - The right tail (players who received multiple second yellow cards) was reduced.\n",
        "  - The dataset confirms that most players rarely get sent off for two yellow cards, meaning this feature has limited variation.\n",
        "\n",
        "- `For Red Cards`:\n",
        "  - Before removing outliers, the distribution was heavily right-skewed, meaning very few players received red cards, with most having a count of zero.\n",
        "  - The dataset shows that receiving a red card is a rare event in football.\n",
        "  - After applying the 95% percentile filter, the dataset retains only players with a typical number of red cards, eliminating extreme cases.\n",
        "  - Since red cards are infrequent, the vast majority of players had zero red cards, creating a strong peak at zero.\n",
        "  - The removal of outliers reduced the influence of players with exceptionally high red card counts, but the distribution largely remains unchanged.\n",
        "  - The dataset confirms that most players do not receive red cards, meaning this feature has very limited variation.\n",
        "\n",
        "- `For Goals Conceded & Clean Sheets`:\n",
        "  - Before removing outliers, the distribution is heavily right-skewed, meaning most players (likely non-goalkeepers) have 0 goals conceded.\n",
        "  - A small portion of players (goalkeepers and defenders) have higher goals conceded, causing a long right tail.\n",
        "  - The distribution is heavily skewed toward zero, indicating that most players do not record clean sheets (likely non-goalkeepers).\n",
        "  - A few goalkeepers with high clean sheet records created a long right tail.\n",
        "  - After removing outliers, the dataset almost entirely consists of zero values, suggesting that goalkeepers with high goals conceded were removed.\n",
        "  - The dataset now mostly consists of zero values, implying that goalkeepers with notable clean sheet records were removed.\n",
        "  - The dataset confirms that goals conceded and clean sheets are almost exclusive to goalkeepers.\n",
        "  -  The removal of outliers may have over-filtered the dataset, removing important goalkeeper statistics.\n",
        "  - If analyzing goalkeeper performance, it might be beneficial to retain some outliers to keep meaningful variation.\n",
        "\n",
        "- `For Minutes Played`:\n",
        "  - Before removing outliers, the distribution was right-skewed, with most players having low playing time and a small number playing over 5000 minutes.\n",
        "  - The peak at zero suggests a significant number of players who had no game time (likely substitutes or reserve players).\n",
        "  - After applying the 95% percentile filter, extreme cases were removed, making the dataset more representative of typical playing times.\n",
        "  - The overall shape of the distribution remains similar, but the long tail has been shortened.\n",
        "  - The peak at zero still exists, confirming that many players did not participate in matches.\n",
        "  - The distribution of minutes played remains skewed, but now better represents general player participation trends, ensuring a fairer analysis of player involvement.\n",
        "  \n",
        "- `For Injury (Days Injured & Games Injured)`:\n",
        "  - Before Removing Outliers, The distribution in injuries days was highly right-skewed, with most players having low injury durations, while a few had extreme long-term injuries (over 400 days).The peak at zero suggests many players did not experience injuries.\n",
        "  - The distribution in games injuries was again right-skewed, meaning most players missed only a few games due to injury, while some missed an entire season. A significant portion of players did not miss any games at all (zero values).\n",
        "  - After Removing Outliers, for injuries days  the upper range was reduced to below ~250 days, removing extreme long-term injuries. The general shape remains the same, but the dataset now focuses on typical injury recovery periods.\n",
        "  - For games injuried the upper limit was reduced to ~25 games, ensuring that extreme cases (players who missed nearly an entire season) were removed. The overall shape remains, but the long tail is now shortened, making the dataset more balanced.\n",
        "  - The injury data is now more representative of normal recovery times, making it useful for assessing player availability and fitness trends.\n",
        "\n",
        "- `For Awards`:\n",
        "  - Before removing outliers, the distribution was highly right-skewed, with most players having zero awards, while a few players had up to six awards.\n",
        "  - The long tail suggests that a small number of elite players received multiple awards.\n",
        "  - After applying the 95% percentile filter, extreme award counts were reduced, leaving a maximum of around three awards per player.\n",
        "  - The majority of players still have zero awards, meaning awards are relatively rare.\n",
        "  - The removal process eliminated players with exceptionally high award counts, shifting focus to players with 1 to 3 awards.\n",
        "  - The overall shape remains similar, but with fewer extreme cases.\n",
        "  - The distribution of awards remains highly skewed, but now provides a clearer representation of player recognition trends, making the dataset more balanced for general analysis.\n",
        "\n",
        "- `For Player Market Value (Current & Highest)`:\n",
        "  - Before Removing Outliers, The distribution is heavily right-skewed, indicating that most players have low market values, while a small number have very high values (above 7 million). The long tail suggests that elite players significantly increase the range of values.\n",
        "  - Similar to current value, most players never had a high peak market value, with only a few reaching above 7 million. The long tail suggests that some players had rapid market growth in their careers.\n",
        "  - After Removing Outliers, The maximum value is now around 3 million, eliminating extreme cases. The dataset is more balanced, but top-valued players have been removed, which may affect analysis of elite players.\n",
        "  - The highest retained values are around 3 million, removing top-tier players. The dataset now focuses on typical player trajectories, rather than extreme cases.\n",
        "  - The filtered dataset is now more balanced, making it better suited for general analysis, but it removes insights on elite players and their transfer dynamics.\n",
        "\n",
        "- `For Player Positions`:\n",
        "  - Before Removing Outliers, the four player positions (Goalkeeper=1, Defender=2, Midfielder=3, Forward=4) show distinct peaks, indicating a balanced distribution. The dataset appears well-categorized, with no major outliers affecting the position encoding.\n",
        "  - After Removing Outliers, the distribution remains the same, meaning no significant outliers were removed. This confirms that player position is a categorical variable with no extreme values.\n",
        "  - Player positions is well-distributed, with no significant outliers.\n",
        "\n",
        "\n",
        "- `For Winger Role`:\n",
        "  - Before Removing Outliers, most players are not wingers (0), but there is a noticeable group of players categorized as wingers (1). No extreme outliers are visible.\n",
        "  - After Removing Outliers, the distribution is nearly identical, meaning the winger classification did not have extreme values. Removing outliers had minimal impact, reinforcing that winger roles are correctly categorized.\n",
        "  - Winger roles is well-distributed, with no significant outliers."
      ],
      "metadata": {
        "id": "2k2eaKmVvEwx"
      },
      "id": "2k2eaKmVvEwx"
    },
    {
      "cell_type": "markdown",
      "id": "4aca9d42-add6-45db-92cf-1f6dae5f277b",
      "metadata": {
        "id": "4aca9d42-add6-45db-92cf-1f6dae5f277b"
      },
      "source": [
        "**What is an Outlier?**\n",
        "Outlier is an row/observation that appears far away and diverges from an overall pattern in a sample.\n",
        "\n",
        "**What are the types of Outliers?**\n",
        "1. Univariate: These outliers can be found when we look at distribution of a single variable\n",
        "2. Multivariate: are outliers in an n-dimensional space. In order to find them, you have to look at distributions in multi-dimensions. example (hight=100, weight=100) for a person\n",
        "\n",
        "**What causes Outliers?**\n",
        "Whenever we come across outliers, the ideal way to tackle them is to find out the reason of having these outliers. The method to deal with them would then depend on the reason of their occurrence.\n",
        "\n",
        "Let’s understand various types of outliers:\n",
        "\n",
        "1. Data Entry Errors:- Human errors such as errors caused during data collection, recording, or entry can cause outliers in data.\n",
        "2. Measurement Error: It is the most common source of outliers. This is caused when the measurement instrument used turns out to be faulty.\n",
        "3. Data Processing Error: Whenever we perform data mining, we extract data from multiple sources. It is possible that some manipulation or extraction errors may lead to outliers in the dataset.\n",
        "4. Sampling error: For instance, we have to measure the height of athletes. By mistake, we include a few basketball players in the sample. This inclusion is likely to cause outliers in the dataset.\n",
        "5. Natural Outlier: When an outlier is not artificial (due to error), it is a natural outlier. For instance: In my last assignment with one of the renowned insurance company, I noticed that the performance of top 50 financial advisors was far higher than rest of the population. Surprisingly, it was not due to any error. Hence, whenever we perform any data mining activity with advisors, we used to treat this segment separately.\n",
        "\n",
        "\n",
        "**What is the impact of Outliers on a dataset?**\n",
        "\n",
        "\n",
        "![image.png](https://www.analyticsvidhya.com/wp-content/uploads/2015/02/Outlier_31.png)\n",
        "\n",
        "\n",
        "\n",
        "**How to detect Outliers?**\n",
        "\n",
        "1. Most commonly used method to detect outliers is visualization (Univariate Graphical Analysis).\n",
        "\n",
        "We use 3 common visualization methods:\n",
        ">- Box-plot: A box plot is a method for graphically depicting groups of numerical data through their quartiles. The box extends from the Q1 to Q3 quartile values of the data, with a line at the median (Q2). The whiskers extend from the edges of the box to show the range of the data. Outlier points are those past the end of the whiskers. Box plots show robust measures of location and spread as well as providing information about symmetry and outliers.\n",
        ">\n",
        ">  \n",
        ">![image.png](https://miro.medium.com/v2/resize:fit:698/format:webp/1*VK5iHA2AB28HSZwWwUbNYg.png)\n",
        ">\n",
        ">\n",
        ">- Histogram\n",
        ">- Scatter Plot: A scatter plot is a mathematical diagram using Cartesian coordinates to display values for two variables for a set of data. The data are displayed as a collection of points, each having the value of one variable determining the position on the horizontal axis and the value of the other variable determining the position on the vertical axis. The points that are far from the population can be termed as an outlier.\n",
        ">\n",
        ">  \n",
        ">![image.png](https://miro.medium.com/v2/resize:fit:4800/format:webp/1*Ov6aH-8yIwNoUxtMFwgx4g.png)\n",
        ">\n",
        ">\n",
        "\n",
        "2. Using statistical method (Univariate Non-Graphical analysis):\n",
        ">- Any value, which is beyond the range of -1.5 x IQR to 1.5 x IQR\n",
        "\n",
        "![image.png](https://www.whatissixsigma.net/wp-content/uploads/2015/07/Box-Plot-Diagram-to-identify-Outliers-figure-1.png)\n",
        "\n",
        ">- Use capping methods. Any value which out of range of 5th and 95th percentile can be considered as outlier\n",
        ">- Data points, three or more standard deviation away from mean are considered outlier: The Z-score is the signed number of standard deviations by which the value of an observation or data point is above the mean value of what is being observed or measured. While calculating the Z-score we re-scale and center the data and look for data points that are too far from zero. These data points which are way too far from zero will be treated as the outliers. In most of the cases, a threshold of 3 or -3 is used i.e if the Z-score value is greater than or less than 3 or -3 respectively, that data point will be identified as outliers.\n",
        "> - Outlier detection is merely a special case of the examination of data for influential data points and it also depends on the business understanding\n"
      ]
    },
    {
      "cell_type": "code",
      "execution_count": null,
      "id": "74ea6194-cc01-45d8-be38-c4543eb1714e",
      "metadata": {
        "id": "74ea6194-cc01-45d8-be38-c4543eb1714e"
      },
      "outputs": [],
      "source": [
        "# go to univariate graphical analysis\n",
        "# go to lesson : data visualisation 1 - chart type section\n",
        "# then go to univariate graphical analysis\n",
        "# detect outliers using graphs varbaly"
      ]
    },
    {
      "cell_type": "code",
      "execution_count": null,
      "id": "48ecf77b-480c-4f64-9485-95be805bc357",
      "metadata": {
        "id": "48ecf77b-480c-4f64-9485-95be805bc357"
      },
      "outputs": [],
      "source": [
        "# go to lesson: statistics 1 then statistics 3\n",
        "# then go to univariate Non graphical analysis\n",
        "# detect outliers using numerical statistics"
      ]
    },
    {
      "cell_type": "code",
      "execution_count": null,
      "id": "4e66d611-6958-4860-8522-9ada7fce40b0",
      "metadata": {
        "id": "4e66d611-6958-4860-8522-9ada7fce40b0"
      },
      "outputs": [],
      "source": [
        "# go to delete ouliers"
      ]
    },
    {
      "cell_type": "markdown",
      "id": "4e886ec7-388c-414b-ada7-803c2fb1f2cb",
      "metadata": {
        "id": "4e886ec7-388c-414b-ada7-803c2fb1f2cb"
      },
      "source": [
        "## 2. Data Cleaning:\n",
        "\n",
        "Preliminary findings from data profiling can lead to cleaning the data by:\n",
        "- Handling missing values\n",
        "- Correcting errors.\n",
        "- Dealing with outliers.\n",
        "\n",
        "-------------------\n",
        "\n"
      ]
    },
    {
      "cell_type": "markdown",
      "id": "21876b48-f5ec-4970-85a9-0520d45d8841",
      "metadata": {
        "id": "21876b48-f5ec-4970-85a9-0520d45d8841"
      },
      "source": [
        "### Handling missing values:"
      ]
    },
    {
      "cell_type": "markdown",
      "id": "c890d5a2-2a65-4090-9427-f89c0f011d3f",
      "metadata": {
        "id": "c890d5a2-2a65-4090-9427-f89c0f011d3f"
      },
      "source": [
        "**Why my data has missing values?**\n",
        "They may occur at two stages:\n",
        "1. Data Extraction: It is possible that there are problems with extraction process. Errors at data extraction stage are typically easy to find and can be corrected easily as well.\n",
        "2. Data collection: These errors occur at time of data collection and are harder to correct.\n",
        "\n",
        "**Why do we need to handle the missing data?**\n",
        "To avoid:\n",
        "- Bias the conclusions.\n",
        "- Leading the business to make wrong decisions.\n",
        "\n",
        "**Which are the methods to treat missing values ?**\n",
        "1. Deletion: we delete rows where any of the variable is missing. Simplicity is one of the major advantage of this method, but this method reduces the power of model because it reduces the sample size.\n",
        "\n",
        "2. Imputation: is a method to fill in the missing values with estimated ones. This imputation is one of the most frequently used methods.\n",
        "\n",
        "    2.1. Mean/ Mode/ Median Imputation: It consists of replacing the missing data for a given attribute by the mean or median (quantitative attribute) or mode (qualitative attribute) of all known values of that variable.\n",
        "    > It can be of two types:\n",
        "    > - Generalized Imputation: In this case, we calculate the mean or median for all non missing values of that variable then replace missing value with mean or median.\n",
        "    > - Similar case Imputation: In this case, we calculate average for each group individually of non missing values then replace the missing value based on the group.\n",
        "\n",
        "    2.2. Constant Value\n",
        "   \n",
        "    2.3. Forward Filling\n",
        "   \n",
        "    2.4. Backward Filling\n",
        "\n",
        "6. Prediction Model:  Prediction model is one of the sophisticated method for handling missing data. Here, we create a predictive model to estimate values that will substitute the missing data.  In this case, we divide our data set into two sets: One set with no missing values for the variable and another one with missing values. First data set become training data set of the model while second data set with missing values is test data set and variable with missing values is treated as target variable. Next, we create a model to predict target variable based on other attributes of the training data set and populate missing values of test data set.\n",
        "\n",
        "> There are 2 drawbacks for this approach:\n",
        "> - The model estimated values are usually more well-behaved than the true values\n",
        "> - If there are no relationships with attributes in the data set and the attribute with missing values, then the model will not be precise for estimating missing values.\n",
        "\n",
        "9. KNN Imputation: In this method of imputation, the missing values of an attribute are imputed using the given number of attributes that are most similar to the attribute whose values are missing. The similarity of two attributes is determined using a distance function. It is also known to have certain advantage & disadvantages.\n",
        "\n",
        "   > **Advantages:**\n",
        "   > - k-nearest neighbour can predict both qualitative & quantitative attributes\n",
        "   > - Creation of predictive model for each attribute with missing data is not required\n",
        "   > - Attributes with multiple missing values can be easily treated\n",
        "   > - Correlation structure of the data is taken into consideration\n",
        "\n",
        "   > **Disadvantage:**\n",
        "   > - KNN algorithm is very time-consuming in analyzing large database. It searches through all the dataset looking for the most similar instances.\n",
        "   > - Choice of k-value is very critical. Higher value of k would include attributes which are significantly different from what we need whereas lower value of k implies missing out of significant attributes.\n",
        "\n",
        "--------------------\n"
      ]
    },
    {
      "cell_type": "markdown",
      "id": "f7cee10f-0af8-44e5-b595-8e965294daad",
      "metadata": {
        "id": "f7cee10f-0af8-44e5-b595-8e965294daad"
      },
      "source": [
        "### Correcting errors\n",
        "\n",
        "-------------------"
      ]
    },
    {
      "cell_type": "markdown",
      "id": "5ecc7dbb-6867-44cf-8f99-1b969a80be40",
      "metadata": {
        "id": "5ecc7dbb-6867-44cf-8f99-1b969a80be40"
      },
      "source": [
        "### Dealing with outliers:"
      ]
    },
    {
      "cell_type": "markdown",
      "id": "88347887-4bdf-48af-9486-cb8fe80c97af",
      "metadata": {
        "id": "88347887-4bdf-48af-9486-cb8fe80c97af"
      },
      "source": [
        "**How to remove Outliers?**\n",
        "Most of the ways to deal with outliers are similar to the methods of missing values like deleting rows, transforming them, binning them, treat them as a separate group, imputing values and other statistical methods. Here, we will discuss the common techniques used to deal with outliers:\n",
        "\n",
        "1. Deleting rows: We delete outlier values if it is due to data entry error, data processing error or outlier rows are very small in numbers. We can also use trimming at both ends to remove outliers.\n",
        "\n",
        "2. Imputing: Like imputation of missing values, we can also impute outliers. We can use mean, median, mode imputation methods. Before imputing values, we should analyse if it is natural outlier or artificial. If it is artificial, we can go with imputing values. We can also use statistical model to predict values of outlier rows and after that we can impute it with predicted values.\n",
        "\n",
        "3. Treat separately: If there are significant number of outliers, we should treat them separately in the statistical model. One of the approach is to treat both groups as two different groups and build individual model for both groups and then combine the output.\n"
      ]
    },
    {
      "cell_type": "code",
      "execution_count": null,
      "id": "57e741fb-71c1-46ad-a526-d8f0b1564dc3",
      "metadata": {
        "id": "57e741fb-71c1-46ad-a526-d8f0b1564dc3"
      },
      "outputs": [],
      "source": [
        "# The data is cleaning"
      ]
    },
    {
      "cell_type": "markdown",
      "source": [
        "## Analysis"
      ],
      "metadata": {
        "id": "gs9a5WUJRPIZ"
      },
      "id": "gs9a5WUJRPIZ"
    },
    {
      "cell_type": "markdown",
      "id": "98548b66-e309-4eb8-a5dc-65fe0abbf1e8",
      "metadata": {
        "id": "98548b66-e309-4eb8-a5dc-65fe0abbf1e8"
      },
      "source": [
        "### 3. Univariate Analysis:\n",
        "\n",
        "This involves examining single variables to understand their characteristics (distribution, central tendency, dispersion, and shape).\n",
        "\n",
        "We calculate **numerical values** about the data that tells us about the distribution of the data. We also **draw graphs** showing visually how the data is distributed. **To answer the following questions about Features/characteristics of Data:**\n",
        "- Where is the center of the data? (location)\n",
        "- How much does the data vary? (scale)\n",
        "- What is the shape of the data? (shape)\n",
        "\n",
        "**The benefits of this analysis:**\n",
        "Statistics summary gives a high-level idea to identify whether the data has any outliers, data entry error, distribution of data such as the data is normally distributed or left/right skewed\n",
        "\n",
        "**In this step, we will explore variables one by one using following approaches:**"
      ]
    },
    {
      "cell_type": "markdown",
      "id": "d6718111-7ac2-4fff-9851-654655b62e0b",
      "metadata": {
        "id": "d6718111-7ac2-4fff-9851-654655b62e0b"
      },
      "source": [
        "### 1. Univariate Graphical Analysis:\n",
        "Method to perform uni-variate analysis will depend on whether the variable type is categorical or numerical."
      ]
    },
    {
      "cell_type": "markdown",
      "id": "0d57c4b9-9bb3-494d-85dd-b8d39afda139",
      "metadata": {
        "id": "0d57c4b9-9bb3-494d-85dd-b8d39afda139"
      },
      "source": [
        "#### I. Categorical Variables:\n",
        "\n",
        "we’ll use frequency table to understand distribution of each category\n",
        "- Bar Chart (Ordinal) - Orderd\n",
        "- Pie Chart (Nominal) - non Orderd"
      ]
    },
    {
      "cell_type": "markdown",
      "id": "d2641f0d-80f2-493b-99b7-15476379a1e2",
      "metadata": {
        "id": "d2641f0d-80f2-493b-99b7-15476379a1e2"
      },
      "source": [
        "#### II. Numerical Variables:\n",
        "\n",
        "we need to understand the central tendency and spread of the variable (Descriptive Analysis) using:\n",
        "   - Box plot\n",
        "   - Histogram"
      ]
    },
    {
      "cell_type": "markdown",
      "id": "d66677d3-44ad-414f-9b39-f9c1995ad043",
      "metadata": {
        "id": "d66677d3-44ad-414f-9b39-f9c1995ad043"
      },
      "source": [
        "### 2. Univariate Non-Graphical analysis:\n",
        "\n",
        "- Where is the center of the data? (location) --> **Measures of central tendency**\n",
        "- How much does the data vary? (scale) --> **Measure of variability**\n",
        "- What is the shape of the data? (shape) --> **Measures of variation combined with an average (measure of center) gives a good picture of the distribution of the data.**"
      ]
    },
    {
      "cell_type": "markdown",
      "id": "f09bb809-0edd-432b-bf23-abd0840b3e16",
      "metadata": {
        "id": "f09bb809-0edd-432b-bf23-abd0840b3e16"
      },
      "source": [
        "### 4. Bivariate/Multivariate Analysis:\n",
        "\n",
        "Here, you look at the relationships between two or more variables. This can involve looking for correlations, patterns, and trends that suggest a relationship or an association.\n",
        "\n",
        "We can perform bi-variate analysis for any combination of categorical and numerical variables. The combination can be:\n",
        "| bi-variate variables   | Plot type |\n",
        "| ------------- | ------------- |\n",
        "| Categorical & Categorical| Stacked Bar Chart |\n",
        "| Categorical & numerical  | scatter plot, histogram, box plot|\n",
        "| numerical  & numerical  | Scatter plot, line chart|\n",
        "\n",
        "\n",
        "Multivariate Analysis:\n",
        "- Heat map\n",
        "- Bar Chart\n",
        "- Scatter Chart\n",
        "- Line Chart"
      ]
    },
    {
      "cell_type": "markdown",
      "id": "838f2864-ce9e-4f15-99c8-052d053154a7",
      "metadata": {
        "id": "838f2864-ce9e-4f15-99c8-052d053154a7"
      },
      "source": [
        "**Categorical & Categorical --> (Stacked Column Chart)**"
      ]
    },
    {
      "cell_type": "markdown",
      "id": "730e088f-fe13-40da-8fbb-686f5135fa4d",
      "metadata": {
        "id": "730e088f-fe13-40da-8fbb-686f5135fa4d"
      },
      "source": [
        "**Categorical & numerical --> (scatter plot, histogram, box plot)**"
      ]
    },
    {
      "cell_type": "markdown",
      "id": "20aed48d-b78e-46da-963f-e7f15e2f4dc7",
      "metadata": {
        "id": "20aed48d-b78e-46da-963f-e7f15e2f4dc7"
      },
      "source": [
        "**numerical & numerical --> (Scatter plot, line chart)**"
      ]
    },
    {
      "cell_type": "markdown",
      "id": "efb43b30-b1f0-48a4-a19c-195810cc8a0f",
      "metadata": {
        "id": "efb43b30-b1f0-48a4-a19c-195810cc8a0f"
      },
      "source": [
        "We could also use a correlation matrix to get more specific information about the relationship between these two variables."
      ]
    },
    {
      "cell_type": "code",
      "execution_count": null,
      "id": "41023177-01cb-4f39-a750-12be71b13bda",
      "metadata": {
        "id": "41023177-01cb-4f39-a750-12be71b13bda"
      },
      "outputs": [],
      "source": [
        "df.columns"
      ]
    },
    {
      "cell_type": "code",
      "execution_count": null,
      "id": "8406f58f-b825-4a15-8f6e-c68ca66bd483",
      "metadata": {
        "id": "8406f58f-b825-4a15-8f6e-c68ca66bd483"
      },
      "outputs": [],
      "source": [
        "# Create a mapping dictionary for position encoding\n",
        "position_mapping = {\n",
        "    1: \"Goalkeeper\",\n",
        "    2: \"Defender\",\n",
        "    3: \"Midfielder\",\n",
        "    4: \"Forward\"\n",
        "}\n",
        "\n",
        "# Replace numbers with their corresponding position names\n",
        "positions = df[\"position_encoded\"].map(position_mapping)\n",
        "\n",
        "\n",
        "# Count values for each position\n",
        "position_counts = positions.value_counts()\n",
        "\n",
        "# Create a pie chart\n",
        "plt.figure(figsize=(8, 8))\n",
        "plt.pie(position_counts, labels=position_counts.index,\n",
        "        autopct='%1.1f%%', colors=[football_color_palette[\"warm_orange\"],\n",
        "                                   football_color_palette[\"deep_green\"],\n",
        "                                   football_color_palette[\"soft_brown\"],\n",
        "                                   football_color_palette[\"bright_orange\"]],\n",
        "        startangle=140, wedgeprops={'edgecolor': 'black'})\n",
        "\n",
        "plt.title(\"Distribution of Player Positions\", fontsize=14, fontweight='bold', color=football_color_palette[\"warm_orange\"])\n",
        "plt.show()\n"
      ]
    },
    {
      "cell_type": "code",
      "source": [
        "# Extract the 10 most repeated names\n",
        "top_10_names = df[\"name\"].value_counts().nlargest(10)\n",
        "\n",
        "# Bar chart of the top 10 most common names\n",
        "plt.figure(figsize=(10, 5))\n",
        "sns.barplot(x=top_10_names.values, y=top_10_names.index, color=football_color_palette[\"deep_green\"])  # اللون الأخضر\n",
        "plt.xlabel(\"Count\", fontsize=12, fontweight='bold', color=football_color_palette[\"deep_green\"])\n",
        "plt.ylabel(\"Player Name\", fontsize=12, fontweight='bold', color=football_color_palette[\"deep_green\"])\n",
        "plt.title(\"Top 10 Most Frequent Player Names\", fontsize=14, fontweight='bold', color=football_color_palette[\"warm_orange\"])  # العنوان باللون البرتقالي\n",
        "plt.grid(axis='x', linestyle=\"--\", alpha=0.5)\n",
        "plt.show()\n",
        "\n",
        "print(50*\"---\")\n",
        "\n",
        "# Extract the 10 most frequent teams\n",
        "top_10_teams = df[\"team\"].value_counts().nlargest(10)\n",
        "\n",
        "# Bar chart of the top 10 most popular teams\n",
        "plt.figure(figsize=(10, 5))\n",
        "sns.barplot(x=top_10_teams.values, y=top_10_teams.index, color=football_color_palette[\"deep_green\"])  # اللون الأخضر\n",
        "plt.xlabel(\"Count\", fontsize=12, fontweight='bold', color=football_color_palette[\"deep_green\"])\n",
        "plt.ylabel(\"Team Name\", fontsize=12, fontweight='bold', color=football_color_palette[\"deep_green\"])\n",
        "plt.title(\"Top 10 Most Frequent Teams in Transfer Market\", fontsize=14, fontweight='bold', color=football_color_palette[\"warm_orange\"])  # العنوان باللون البرتقالي\n",
        "plt.grid(axis='x', linestyle=\"--\", alpha=0.5)\n",
        "plt.show()\n"
      ],
      "metadata": {
        "id": "017pTqHST1L9"
      },
      "id": "017pTqHST1L9",
      "execution_count": null,
      "outputs": []
    },
    {
      "cell_type": "code",
      "source": [
        "plt.figure(figsize=(8,5))\n",
        "sns.scatterplot(x=df[\"age\"], y=df[\"current_value\"], color=football_color_palette[\"deep_green\"])\n",
        "plt.xlabel(\"Age\", fontsize=12, fontweight='bold', color=football_color_palette[\"deep_green\"])\n",
        "plt.ylabel(\"Current Value\", fontsize=12, fontweight='bold', color=football_color_palette[\"deep_green\"])\n",
        "plt.title(\"Players Age vs. Current Value\", fontsize=14, fontweight='bold', color=football_color_palette[\"warm_orange\"])\n",
        "plt.grid(True, linestyle=\"--\", alpha=0.5)\n",
        "plt.show()\n"
      ],
      "metadata": {
        "id": "Lp_Gdb0CDDBM"
      },
      "id": "Lp_Gdb0CDDBM",
      "execution_count": null,
      "outputs": []
    },
    {
      "cell_type": "code",
      "source": [
        "plt.figure(figsize=(8,5))\n",
        "sns.scatterplot(x=df[\"height\"], y=df[\"current_value\"], color=football_color_palette[\"deep_green\"])\n",
        "plt.xlabel(\"Height\", fontsize=12, fontweight='bold', color=football_color_palette[\"deep_green\"])\n",
        "plt.ylabel(\"Current Value\", fontsize=12, fontweight='bold', color=football_color_palette[\"deep_green\"])\n",
        "plt.title(\"Players Height vs. Current Value\", fontsize=14, fontweight='bold', color=football_color_palette[\"warm_orange\"])\n",
        "plt.grid(True, linestyle=\"--\", alpha=0.5)\n",
        "plt.show()\n"
      ],
      "metadata": {
        "id": "9U-JFVJ9Ee2v"
      },
      "id": "9U-JFVJ9Ee2v",
      "execution_count": null,
      "outputs": []
    },
    {
      "cell_type": "code",
      "source": [
        "plt.figure(figsize=(10, 6))\n",
        "sns.boxplot(x=df[\"position_encoded\"], y=df[\"current_value\"], palette=[football_color_palette[\"deep_green\"]])\n",
        "plt.xlabel(\"Player Position\", fontsize=12, fontweight='bold', color=football_color_palette[\"deep_green\"])\n",
        "plt.ylabel(\"Current Market Value\", fontsize=12, fontweight='bold', color=football_color_palette[\"deep_green\"])\n",
        "plt.title(\"Player Position vs. Current Market Value\", fontsize=14, fontweight='bold', color=football_color_palette[\"warm_orange\"])\n",
        "plt.grid(True, linestyle=\"--\", alpha=0.5)\n",
        "plt.show()\n"
      ],
      "metadata": {
        "id": "MECx6QVYC74Q"
      },
      "id": "MECx6QVYC74Q",
      "execution_count": null,
      "outputs": []
    },
    {
      "cell_type": "code",
      "source": [
        "df.columns"
      ],
      "metadata": {
        "id": "TKlea3oWT1Tm"
      },
      "id": "TKlea3oWT1Tm",
      "execution_count": null,
      "outputs": []
    },
    {
      "cell_type": "code",
      "source": [
        "# Filter the data to include only the top 10 teams by number of players.\n",
        "top_10_teams = df[\"team\"].value_counts().nlargest(10).index\n",
        "df_top_teams = df[df[\"team\"].isin(top_10_teams)]\n",
        "\n",
        "# Plot a chart showing the distribution of player positions across the top 10 teams.\n",
        "plt.figure(figsize=(12, 6))\n",
        "sns.countplot(x=df_top_teams[\"team\"], hue=df_top_teams[\"position_encoded\"],\n",
        "              palette=[football_color_palette[\"deep_green\"],\n",
        "                       football_color_palette[\"warm_orange\"],\n",
        "                       football_color_palette[\"light_green\"],\n",
        "                       football_color_palette[\"dark_orange\"]])\n",
        "\n",
        "plt.xlabel(\"Team\", fontsize=12, fontweight='bold', color=football_color_palette[\"deep_green\"])\n",
        "plt.ylabel(\"Count\", fontsize=12, fontweight='bold', color=football_color_palette[\"deep_green\"])\n",
        "plt.title(\"Top 10 Teams: Player Position Distribution\", fontsize=14, fontweight='bold', color=football_color_palette[\"warm_orange\"])\n",
        "plt.xticks(rotation=90)\n",
        "plt.grid(True, linestyle=\"--\", alpha=0.5)\n",
        "plt.legend(title=\"Player Position\")\n",
        "plt.show()\n"
      ],
      "metadata": {
        "id": "CVkkYt-yT1V8"
      },
      "id": "CVkkYt-yT1V8",
      "execution_count": null,
      "outputs": []
    },
    {
      "cell_type": "code",
      "source": [
        "plt.figure(figsize=(10, 6))\n",
        "sns.violinplot(x=df[\"winger\"], y=df[\"red cards\"], palette=[football_color_palette[\"deep_green\"],\n",
        "                                                            football_color_palette[\"warm_orange\"]])\n",
        "\n",
        "plt.xlabel(\"Winger (0 = No, 1 = Yes)\", fontsize=12, fontweight='bold', color=football_color_palette[\"deep_green\"])\n",
        "plt.ylabel(\"Red Cards\", fontsize=12, fontweight='bold', color=football_color_palette[\"deep_green\"])\n",
        "plt.title(\"Distribution of Red Cards by Winger Position\", fontsize=14, fontweight='bold', color=football_color_palette[\"warm_orange\"])\n",
        "plt.grid(True, linestyle=\"--\", alpha=0.5)\n",
        "plt.show()\n"
      ],
      "metadata": {
        "id": "yNyECGF5T1YR"
      },
      "id": "yNyECGF5T1YR",
      "execution_count": null,
      "outputs": []
    },
    {
      "cell_type": "code",
      "source": [
        "plt.figure(figsize=(10, 6))\n",
        "sns.violinplot(x=df[\"winger\"], y=df[\"current_value\"], palette=[football_color_palette[\"deep_green\"],\n",
        "                                                                football_color_palette[\"warm_orange\"]])\n",
        "\n",
        "plt.xlabel(\"Winger (0 = No, 1 = Yes)\", fontsize=12, fontweight='bold', color=football_color_palette[\"deep_green\"])\n",
        "plt.ylabel(\"Current Value (€)\", fontsize=12, fontweight='bold', color=football_color_palette[\"deep_green\"])\n",
        "plt.title(\"Distribution of Current Value by Winger Position\", fontsize=14, fontweight='bold', color=football_color_palette[\"warm_orange\"])\n",
        "plt.grid(True, linestyle=\"--\", alpha=0.5)\n",
        "plt.show()\n"
      ],
      "metadata": {
        "id": "GH2HdNdOT1ao"
      },
      "id": "GH2HdNdOT1ao",
      "execution_count": null,
      "outputs": []
    },
    {
      "cell_type": "code",
      "source": [
        "# Calculate the average minutes played for each position\n",
        "avg_minutes_by_position = df.groupby(\"position_encoded\")[\"minutes played\"].mean().reset_index()\n",
        "\n",
        "# Assign center names instead of numbers\n",
        "position_labels = {1: \"Goalkeeper\", 2: \"Defender\", 3: \"Midfielder\", 4: \"Forward\"}\n",
        "avg_minutes_by_position[\"position_encoded\"] = avg_minutes_by_position[\"position_encoded\"].map(position_labels)\n",
        "\n",
        "\n",
        "# Plot a bar chart\n",
        "# Define colors directly from football color_palette\n",
        "custom_palette = [\"#5a6b5a\", \"#b47c3d\", \"#a7c6a7\"]\n",
        "\n",
        "plt.figure(figsize=(8, 5))\n",
        "sns.barplot(x=\"position_encoded\", y=\"minutes played\", data=avg_minutes_by_position, palette=custom_palette)\n",
        "\n",
        "plt.xlabel(\"Player Position\", fontsize=12, fontweight=\"bold\", color=\"#5a6b5a\")\n",
        "plt.ylabel(\"Average Minutes Played\", fontsize=12, fontweight=\"bold\", color=\"#5a6b5a\")\n",
        "plt.title(\"Average Minutes Played by Position\", fontsize=14, fontweight=\"bold\", color=\"#b47c3d\")\n",
        "plt.grid(axis=\"y\", linestyle=\"--\", alpha=0.5)\n",
        "plt.show()"
      ],
      "metadata": {
        "id": "g3xCi-ymT1c-"
      },
      "id": "g3xCi-ymT1c-",
      "execution_count": null,
      "outputs": []
    },
    {
      "cell_type": "code",
      "source": [
        "# Specify only numeric columns\n",
        "numerical_columns = ['height', 'age', 'appearance', 'goals', 'assists',\n",
        "                     'yellow cards', 'second yellow cards', 'red cards',\n",
        "                     'goals conceded', 'clean sheets', 'minutes played',\n",
        "                     'days_injured', 'games_injured', 'award',\n",
        "                     'current_value', 'highest_value']\n",
        "\n",
        "# Calculate the correlation coefficient between numeric columns only.\n",
        "corr_matrix = df[numerical_columns].corr()\n",
        "\n",
        "# Plot Setting\n",
        "plt.figure(figsize=(12, 8))\n",
        "\n",
        "# Choose green shades from football color_palette\n",
        "cmap_colors = [\"#a7c6a7\", \"#5a6b5a\", \"#717c62\"]\n",
        "cmap = sns.color_palette(cmap_colors, as_cmap=True)\n",
        "\n",
        "# Plot heatmap\n",
        "sns.heatmap(corr_matrix, annot=True, fmt=\".2f\", cmap=cmap, linewidths=0.5, linecolor=\"white\")\n",
        "\n",
        "# Customize title and labels\n",
        "plt.title(\"Heatmap of Correlation Matrix\", fontsize=14, fontweight=\"bold\", color=\"#5a6b5a\")\n",
        "plt.show()"
      ],
      "metadata": {
        "id": "6zMIb-QJRw0_"
      },
      "id": "6zMIb-QJRw0_",
      "execution_count": null,
      "outputs": []
    },
    {
      "cell_type": "markdown",
      "source": [
        "# Building Machine Learning Models"
      ],
      "metadata": {
        "id": "dEb6FJVSZ5Ck"
      },
      "id": "dEb6FJVSZ5Ck"
    },
    {
      "cell_type": "markdown",
      "source": [
        "### Preprocess the Data"
      ],
      "metadata": {
        "id": "7xcs9k8Obbtn"
      },
      "id": "7xcs9k8Obbtn"
    },
    {
      "cell_type": "markdown",
      "source": [
        "#### 1- Feature Engineering:"
      ],
      "metadata": {
        "id": "vl7_5oXkaFCV"
      },
      "id": "vl7_5oXkaFCV"
    },
    {
      "cell_type": "markdown",
      "source": [
        "1- Feature scaling\n",
        "\n",
        "2- Aggregation\n",
        "\n",
        "3- One hot coding"
      ],
      "metadata": {
        "id": "PKaNEHABblsF"
      },
      "id": "PKaNEHABblsF"
    },
    {
      "cell_type": "code",
      "source": [
        "df.drop(columns=['player', 'position'], inplace=True)"
      ],
      "metadata": {
        "id": "J_BY4Jd3d7Y7"
      },
      "id": "J_BY4Jd3d7Y7",
      "execution_count": null,
      "outputs": []
    },
    {
      "cell_type": "code",
      "source": [
        "# Display the first 3 rows\n",
        "df.head(3)"
      ],
      "metadata": {
        "id": "uue1V351adKC"
      },
      "id": "uue1V351adKC",
      "execution_count": null,
      "outputs": []
    },
    {
      "cell_type": "code",
      "source": [
        "# Show label of the columns\n",
        "df.columns"
      ],
      "metadata": {
        "id": "QB3zpcYAaawq"
      },
      "id": "QB3zpcYAaawq",
      "execution_count": null,
      "outputs": []
    },
    {
      "cell_type": "code",
      "source": [
        "# تحديد الأعمدة الفئوية\n",
        "categorical_features = [\"team\", \"name\"]\n",
        "\n",
        "# One-Hot Encoding\n",
        "df = pd.get_dummies(df, columns=categorical_features).astype(int)"
      ],
      "metadata": {
        "id": "7AagTFM9bxdj"
      },
      "id": "7AagTFM9bxdj",
      "execution_count": null,
      "outputs": []
    },
    {
      "cell_type": "code",
      "source": [
        "df.shape"
      ],
      "metadata": {
        "id": "WQ_XED3_cwXK"
      },
      "id": "WQ_XED3_cwXK",
      "execution_count": null,
      "outputs": []
    },
    {
      "cell_type": "code",
      "source": [
        "df.head(1)"
      ],
      "metadata": {
        "id": "DmaSVSzcdDmM"
      },
      "id": "DmaSVSzcdDmM",
      "execution_count": null,
      "outputs": []
    },
    {
      "cell_type": "markdown",
      "source": [
        "#### 2- Feature selection:"
      ],
      "metadata": {
        "id": "inANoRnddSh0"
      },
      "id": "inANoRnddSh0"
    },
    {
      "cell_type": "code",
      "source": [
        "numerical_features = df.select_dtypes(include=['int64', 'float64']).columns\n",
        "correlation = df[numerical_features].corr()\n",
        "print(correlation['current_value'].sort_values(ascending=False))"
      ],
      "metadata": {
        "id": "xO46GpwJdZuV"
      },
      "id": "xO46GpwJdZuV",
      "execution_count": null,
      "outputs": []
    },
    {
      "cell_type": "code",
      "source": [
        "# Set the correlation threshold\n",
        "threshold = 0.2  # You can change this value based on your requirement\n",
        "\n",
        "# Filter the correlations\n",
        "# We use `abs()` for absolute value to consider both strong positive and negative correlations\n",
        "selected_features = correlation[abs(correlation['current_value']) > threshold]['current_value'].index\n",
        "selected_features"
      ],
      "metadata": {
        "id": "gNoMG9OqsXFn"
      },
      "id": "gNoMG9OqsXFn",
      "execution_count": null,
      "outputs": []
    },
    {
      "cell_type": "code",
      "source": [
        "selected_features = ['appearance', 'minutes played', 'award', 'current_value', 'highest_value',\n",
        "       'team_Manchester City']"
      ],
      "metadata": {
        "id": "sQ1AtxN0xALl"
      },
      "id": "sQ1AtxN0xALl",
      "execution_count": null,
      "outputs": []
    },
    {
      "cell_type": "code",
      "source": [
        "df = df[selected_features]\n",
        "df.head()"
      ],
      "metadata": {
        "id": "Vj_dpsINxWdc"
      },
      "id": "Vj_dpsINxWdc",
      "execution_count": null,
      "outputs": []
    },
    {
      "cell_type": "code",
      "source": [
        "df.shape"
      ],
      "metadata": {
        "id": "azdLGoLUxZ6L"
      },
      "id": "azdLGoLUxZ6L",
      "execution_count": null,
      "outputs": []
    },
    {
      "cell_type": "markdown",
      "source": [
        "#### 3- Prepare train and test data:"
      ],
      "metadata": {
        "id": "BeKxz3m-xfLN"
      },
      "id": "BeKxz3m-xfLN"
    },
    {
      "cell_type": "code",
      "source": [
        "# Prepare data\n",
        "X = df.drop(['current_value'], axis=1)\n",
        "y = df['current_value']\n",
        "\n",
        "# Split data into training and testing sets\n",
        "X_train, X_test, y_train, y_test = train_test_split(X, y,\n",
        "                                                    test_size=0.2,\n",
        "                                                    shuffle=True,\n",
        "                                                    random_state=42)\n",
        "\n",
        "# sacle the data\n",
        "scaler = StandardScaler()\n",
        "scaler.fit(X_train)\n",
        "X_train_scaled = scaler.transform(X_train)\n",
        "X_test_scaled = scaler.transform(X_test)"
      ],
      "metadata": {
        "id": "jR1SvH_hxcbk"
      },
      "id": "jR1SvH_hxcbk",
      "execution_count": null,
      "outputs": []
    },
    {
      "cell_type": "code",
      "source": [
        "X.shape"
      ],
      "metadata": {
        "id": "r_x3exTsxugm"
      },
      "id": "r_x3exTsxugm",
      "execution_count": null,
      "outputs": []
    },
    {
      "cell_type": "markdown",
      "source": [
        "### Buliding the Model (Regression)\n"
      ],
      "metadata": {
        "id": "n77afXJIxzeD"
      },
      "id": "n77afXJIxzeD"
    },
    {
      "cell_type": "markdown",
      "source": [
        "#### 1- Linear Regression"
      ],
      "metadata": {
        "id": "U6k_lkZU1RjN"
      },
      "id": "U6k_lkZU1RjN"
    },
    {
      "cell_type": "code",
      "source": [
        "model = LinearRegression()"
      ],
      "metadata": {
        "id": "EaWvU96WxwjI"
      },
      "id": "EaWvU96WxwjI",
      "execution_count": null,
      "outputs": []
    },
    {
      "cell_type": "markdown",
      "source": [
        "##### Train the Model\n"
      ],
      "metadata": {
        "id": "SDf2ASK8x4nC"
      },
      "id": "SDf2ASK8x4nC"
    },
    {
      "cell_type": "code",
      "source": [
        "# Fit the model on the training data\n",
        "model.fit(X_train_scaled, y_train)\n",
        "print(model)"
      ],
      "metadata": {
        "id": "psEymIXRx28m"
      },
      "id": "psEymIXRx28m",
      "execution_count": null,
      "outputs": []
    },
    {
      "cell_type": "markdown",
      "source": [
        "##### Test the Model\n"
      ],
      "metadata": {
        "id": "50dWD6QGyIKk"
      },
      "id": "50dWD6QGyIKk"
    },
    {
      "cell_type": "code",
      "source": [
        "# Predict and evaluate the model\n",
        "y_pred = model.predict(X_test_scaled)      # Linear regression model"
      ],
      "metadata": {
        "id": "_G1B-2lax8tE"
      },
      "id": "_G1B-2lax8tE",
      "execution_count": null,
      "outputs": []
    },
    {
      "cell_type": "markdown",
      "source": [
        "##### Interpretation of the Model\n"
      ],
      "metadata": {
        "id": "4G8_6rDOyQfY"
      },
      "id": "4G8_6rDOyQfY"
    },
    {
      "cell_type": "code",
      "source": [
        "coeff_df = pd.DataFrame(model.coef_,X.columns,columns=['Coefficient'])   # Linear model cofficients"
      ],
      "metadata": {
        "id": "Hu-nNbQIyO6Z"
      },
      "id": "Hu-nNbQIyO6Z",
      "execution_count": null,
      "outputs": []
    },
    {
      "cell_type": "code",
      "source": [
        "coeff_df"
      ],
      "metadata": {
        "id": "V7ooygU-yURt"
      },
      "id": "V7ooygU-yURt",
      "execution_count": null,
      "outputs": []
    },
    {
      "cell_type": "code",
      "source": [
        "print(f\" Linear regression intercept: {model.intercept_}\")"
      ],
      "metadata": {
        "id": "Oof2KO5hyWF-"
      },
      "id": "Oof2KO5hyWF-",
      "execution_count": null,
      "outputs": []
    },
    {
      "cell_type": "markdown",
      "source": [
        "##### Evaluating the Model\n"
      ],
      "metadata": {
        "id": "PCCVXxtgyifD"
      },
      "id": "PCCVXxtgyifD"
    },
    {
      "cell_type": "markdown",
      "source": [
        "**1- Mean Square Error**"
      ],
      "metadata": {
        "id": "yXqt0oERyuzw"
      },
      "id": "yXqt0oERyuzw"
    },
    {
      "cell_type": "code",
      "source": [
        "y_base = [y_train.mean()] * len(y_test)"
      ],
      "metadata": {
        "id": "Gtgas0wryfeZ"
      },
      "id": "Gtgas0wryfeZ",
      "execution_count": null,
      "outputs": []
    },
    {
      "cell_type": "code",
      "source": [
        "y_base"
      ],
      "metadata": {
        "id": "nvQ9XjBXy0pV"
      },
      "id": "nvQ9XjBXy0pV",
      "execution_count": null,
      "outputs": []
    },
    {
      "cell_type": "code",
      "source": [
        "# our benchmark model\n",
        "mse_base = mean_squared_error(y_test, y_base )\n",
        "print(f'Mean Squared Error of base model: {mse_base:2e}')"
      ],
      "metadata": {
        "id": "BiRMI9Wny27P"
      },
      "id": "BiRMI9Wny27P",
      "execution_count": null,
      "outputs": []
    },
    {
      "cell_type": "code",
      "source": [
        "# MSE for Linear model\n",
        "mse_train = mean_squared_error(y_train, model.predict(X_train_scaled))\n",
        "mse_test = mean_squared_error(y_test, y_pred)\n",
        "print(f'Mean Squared Error for training: {mse_train:2e}')\n",
        "print(f'Mean Squared Error for testing: {mse_test:2e}')"
      ],
      "metadata": {
        "id": "sb3nzxJKy7nF"
      },
      "id": "sb3nzxJKy7nF",
      "execution_count": null,
      "outputs": []
    },
    {
      "cell_type": "markdown",
      "source": [
        "**2- Mean Absolute Error**"
      ],
      "metadata": {
        "id": "uGCo7tUIzA6l"
      },
      "id": "uGCo7tUIzA6l"
    },
    {
      "cell_type": "code",
      "source": [
        "# our benchmark model\n",
        "mae_base = mean_absolute_error(y_test, y_base )\n",
        "print(f'Mean Absolute  Error of base model: {mae_base:2e}')"
      ],
      "metadata": {
        "id": "8l1wn9dLzDLD"
      },
      "id": "8l1wn9dLzDLD",
      "execution_count": null,
      "outputs": []
    },
    {
      "cell_type": "code",
      "source": [
        "# Linear model\n",
        "mae_train = mean_absolute_error(y_train, model.predict(X_train_scaled))\n",
        "mae_test = mean_absolute_error(y_test, y_pred)\n",
        "print(f'Mean Absolute Error for training: {mae_train:2e}')\n",
        "print(f'Mean Absolute Error for testing: {mae_test:2e}')"
      ],
      "metadata": {
        "id": "B3OWg_M-zFs9"
      },
      "id": "B3OWg_M-zFs9",
      "execution_count": null,
      "outputs": []
    },
    {
      "cell_type": "markdown",
      "source": [
        "**3- Root Mean Squared Error**\n"
      ],
      "metadata": {
        "id": "JYBGCSegzIzH"
      },
      "id": "JYBGCSegzIzH"
    },
    {
      "cell_type": "code",
      "source": [
        "# our benchmark model\n",
        "print(f'Root Mean Squared  Error of base model: {np.sqrt(mse_base):2e}')"
      ],
      "metadata": {
        "id": "0GAKUDdZzKf_"
      },
      "id": "0GAKUDdZzKf_",
      "execution_count": null,
      "outputs": []
    },
    {
      "cell_type": "code",
      "source": [
        "# RMSE for Linear model\n",
        "\n",
        "print(f'Root Mean Squared Error for training: {np.sqrt(mse_train):2e}')\n",
        "print(f'Root Mean Squared Error for testing: {np.sqrt(mse_test):2e}')"
      ],
      "metadata": {
        "id": "G-MIZwGIzMD_"
      },
      "id": "G-MIZwGIzMD_",
      "execution_count": null,
      "outputs": []
    },
    {
      "cell_type": "markdown",
      "source": [
        "**4- R Square**"
      ],
      "metadata": {
        "id": "gbAYId_UzPX-"
      },
      "id": "gbAYId_UzPX-"
    },
    {
      "cell_type": "code",
      "source": [
        "# Linear model r2 score\n",
        "r2_score_train = r2_score(y_train, model.predict(X_train_scaled))\n",
        "r2_score_test = r2_score(y_test, y_pred)\n",
        "print(f'R Square for training: {r2_score_train}')\n",
        "print(f'R Square for testing: {r2_score_test}')"
      ],
      "metadata": {
        "id": "-81u3x-wzNzH"
      },
      "id": "-81u3x-wzNzH",
      "execution_count": null,
      "outputs": []
    },
    {
      "cell_type": "markdown",
      "source": [
        "**Predictions vs. Real Values**\n"
      ],
      "metadata": {
        "id": "nxg9irm8zUiC"
      },
      "id": "nxg9irm8zUiC"
    },
    {
      "cell_type": "code",
      "source": [
        "predictions = model.predict(X_test_scaled)\n",
        "# Predictions"
      ],
      "metadata": {
        "id": "5kAcqrUJzSo0"
      },
      "id": "5kAcqrUJzSo0",
      "execution_count": null,
      "outputs": []
    },
    {
      "cell_type": "code",
      "source": [
        "predictions"
      ],
      "metadata": {
        "id": "L7ibtXpMzZ6r"
      },
      "id": "L7ibtXpMzZ6r",
      "execution_count": null,
      "outputs": []
    },
    {
      "cell_type": "code",
      "source": [
        "Real_Values = np.array(y_test)\n",
        "# Real_Values"
      ],
      "metadata": {
        "id": "ZNCktjWlzdqB"
      },
      "id": "ZNCktjWlzdqB",
      "execution_count": null,
      "outputs": []
    },
    {
      "cell_type": "code",
      "source": [
        "plt.scatter(Real_Values, predictions)\n",
        "plt.plot([Real_Values.min(), Real_Values.max()], [Real_Values.min(), Real_Values.max()], color='red', lw=1)\n",
        "plt.xlabel('Real Values')\n",
        "plt.ylabel('Predictions')\n",
        "plt.title('Real Values vs Predictions')\n",
        "plt.show()"
      ],
      "metadata": {
        "id": "0D8yD8Tmzi_K"
      },
      "id": "0D8yD8Tmzi_K",
      "execution_count": null,
      "outputs": []
    },
    {
      "cell_type": "markdown",
      "source": [
        "**Residual Histogram**"
      ],
      "metadata": {
        "id": "5GoZ750LzyhN"
      },
      "id": "5GoZ750LzyhN"
    },
    {
      "cell_type": "code",
      "source": [
        "sns.distplot((y_test-predictions),bins=50); # it's good if we get normal distribution"
      ],
      "metadata": {
        "id": "Im3YFqFIzvs2"
      },
      "id": "Im3YFqFIzvs2",
      "execution_count": null,
      "outputs": []
    },
    {
      "cell_type": "markdown",
      "source": [
        "#### 2- Random Forest Regression"
      ],
      "metadata": {
        "id": "R791FnZz11ZA"
      },
      "id": "R791FnZz11ZA"
    },
    {
      "cell_type": "code",
      "source": [
        "# Build the moder\n",
        "rf_model = RandomForestRegressor(n_estimators=100, random_state=42)\n",
        "\n",
        "# Model training\n",
        "rf_model.fit(X_train_scaled, y_train)\n",
        "\n",
        "# Prediction on test data\n",
        "y_pred_rf = rf_model.predict(X_test_scaled)\n",
        "\n",
        "# Model Evaluation\n",
        "# Calculate Mean Squared Error (MSE)\n",
        "mse_rf_train = mean_squared_error(y_train, rf_model.predict(X_train_scaled))\n",
        "mse_rf_test = mean_squared_error(y_test, y_pred_rf)\n",
        "print(f'Mean Squared Error for training (Random Forest): {mse_rf_train:2e}')\n",
        "print(f'Mean Squared Error for testing (Random Forest): {mse_rf_test:2e}')\n",
        "print(20*'---')\n",
        "\n",
        "# Calculate Mean Absolute Error (MAE)\n",
        "mae_rf_train = mean_absolute_error(y_train, rf_model.predict(X_train_scaled))\n",
        "mae_rf_test = mean_absolute_error(y_test, y_pred_rf)\n",
        "print(f'Mean Absolute Error for training (Random Forest): {mae_rf_train:2e}')\n",
        "print(f'Mean Absolute Error for testing (Random Forest): {mae_rf_test:2e}')\n",
        "print(20*'---')\n",
        "\n",
        "# Calculate Root Mean Squared Error (RMSE)\n",
        "rmse_rf_train = np.sqrt(mse_rf_train)\n",
        "rmse_rf_test = np.sqrt(mse_rf_test)\n",
        "print(f'Root Mean Squared Error for training (Random Forest): {rmse_rf_train:2e}')\n",
        "print(f'Root Mean Squared Error for testing (Random Forest): {rmse_rf_test:2e}')\n",
        "print(20*'---')\n",
        "\n",
        "# Calculate R-Squared Score\n",
        "r2_rf_train = r2_score(y_train, rf_model.predict(X_train_scaled))\n",
        "r2_rf_test = r2_score(y_test, y_pred_rf)\n",
        "print(f'R Square for training (Random Forest): {r2_rf_train}')\n",
        "print(f'R Square for testing (Random Forest): {r2_rf_test}')\n",
        "print(20*'---')\n",
        "\n",
        "# Scatter Plot between actual and predicted values\n",
        "plt.scatter(y_test, y_pred_rf, alpha=0.5)\n",
        "plt.plot([y_test.min(), y_test.max()], [y_test.min(), y_test.max()], color='red', lw=2)\n",
        "plt.xlabel('Real Values')\n",
        "plt.ylabel('Predictions')\n",
        "plt.title('Real Values vs Predictions (Random Forest)')\n",
        "plt.show()\n",
        "\n",
        "print(20*'---')\n",
        "\n",
        "# Error distribution\n",
        "sns.histplot((y_test - y_pred_rf), bins=50, kde=True)\n",
        "plt.title('Error Distribution (Random Forest)')\n",
        "plt.xlabel('Prediction Error')\n",
        "plt.ylabel('Frequency')\n",
        "plt.show()\n"
      ],
      "metadata": {
        "id": "pwRjVvFK0vZ5"
      },
      "id": "pwRjVvFK0vZ5",
      "execution_count": null,
      "outputs": []
    },
    {
      "cell_type": "markdown",
      "source": [
        "#### 3- Polynomial Regression"
      ],
      "metadata": {
        "id": "BTnufA712PJ3"
      },
      "id": "BTnufA712PJ3"
    },
    {
      "cell_type": "code",
      "source": [
        "# Convert features to polynomial features\n",
        "poly = PolynomialFeatures(degree=2)\n",
        "X_train_poly = poly.fit_transform(X_train_scaled)\n",
        "X_test_poly = poly.transform(X_test_scaled)\n",
        "\n",
        "# Create a linear regression model after transforming the features.\n",
        "poly_model = LinearRegression()\n",
        "poly_model.fit(X_train_poly, y_train)\n",
        "\n",
        "# Prediction on test data\n",
        "y_pred_poly = poly_model.predict(X_test_poly)\n",
        "\n",
        "# Model Evaluation\n",
        "# Calculate Mean Squared Error (MSE)\n",
        "mse_poly_train = mean_squared_error(y_train, poly_model.predict(X_train_poly))\n",
        "mse_poly_test = mean_squared_error(y_test, y_pred_poly)\n",
        "print(f'Mean Squared Error for training (Polynomial Regression): {mse_poly_train:2e}')\n",
        "print(f'Mean Squared Error for testing (Polynomial Regression): {mse_poly_test:2e}')\n",
        "print(20*'---')\n",
        "\n",
        "# Calculate Mean Absolute Error (MAE)\n",
        "mae_poly_train = mean_absolute_error(y_train, poly_model.predict(X_train_poly))\n",
        "mae_poly_test = mean_absolute_error(y_test, y_pred_poly)\n",
        "print(f'Mean Absolute Error for training (Polynomial Regression): {mae_poly_train:2e}')\n",
        "print(f'Mean Absolute Error for testing (Polynomial Regression): {mae_poly_test:2e}')\n",
        "print(20*'---')\n",
        "\n",
        "# Calculate Root Mean Squared Error (RMSE)\n",
        "rmse_poly_train = np.sqrt(mse_poly_train)\n",
        "rmse_poly_test = np.sqrt(mse_poly_test)\n",
        "print(f'Root Mean Squared Error for training (Polynomial Regression): {rmse_poly_train:2e}')\n",
        "print(f'Root Mean Squared Error for testing (Polynomial Regression): {rmse_poly_test:2e}')\n",
        "print(20*'---')\n",
        "\n",
        "# Calculate R-Squared Score\n",
        "r2_poly_train = r2_score(y_train, poly_model.predict(X_train_poly))\n",
        "r2_poly_test = r2_score(y_test, y_pred_poly)\n",
        "print(f'R Square for training (Polynomial Regression): {r2_poly_train}')\n",
        "print(f'R Square for testing (Polynomial Regression): {r2_poly_test}')\n",
        "print(20*'---')\n",
        "\n",
        "# Scatter Plot between actual and predicted values\n",
        "plt.scatter(y_test, y_pred_poly, alpha=0.5)\n",
        "plt.plot([y_test.min(), y_test.max()], [y_test.min(), y_test.max()], color='red', lw=2)\n",
        "plt.xlabel('Real Values')\n",
        "plt.ylabel('Predictions')\n",
        "plt.title('Real Values vs Predictions (Polynomial Regression)')\n",
        "plt.show()\n",
        "print(20*'---')\n",
        "\n",
        "# Error distribution\n",
        "sns.histplot((y_test - y_pred_poly), bins=50, kde=True)\n",
        "plt.title('Error Distribution (Polynomial Regression)')\n",
        "plt.xlabel('Prediction Error')\n",
        "plt.ylabel('Frequency')\n",
        "plt.show()\n",
        "\n"
      ],
      "metadata": {
        "id": "GJrePoK4045n"
      },
      "id": "GJrePoK4045n",
      "execution_count": null,
      "outputs": []
    },
    {
      "cell_type": "markdown",
      "source": [
        "#### 4- Decision Tree Regression"
      ],
      "metadata": {
        "id": "U8OIW_Gf2Sr4"
      },
      "id": "U8OIW_Gf2Sr4"
    },
    {
      "cell_type": "code",
      "source": [
        "# Build the model\n",
        "dt_model = DecisionTreeRegressor(random_state=42)\n",
        "\n",
        "# Model training\n",
        "dt_model.fit(X_train_scaled, y_train)\n",
        "\n",
        "# Prediction on test data\n",
        "y_pred_dt = dt_model.predict(X_test_scaled)\n",
        "\n",
        "# Model Evaluation\n",
        "# Calculate Mean Squared Error (MSE)\n",
        "mse_dt_train = mean_squared_error(y_train, dt_model.predict(X_train_scaled))\n",
        "mse_dt_test = mean_squared_error(y_test, y_pred_dt)\n",
        "print(f'Mean Squared Error for training (Decision Tree Regression): {mse_dt_train:2e}')\n",
        "print(f'Mean Squared Error for testing (Decision Tree Regression): {mse_dt_test:2e}')\n",
        "print(20*'---')\n",
        "\n",
        "# Calculate Mean Absolute Error (MAE)\n",
        "mae_dt_train = mean_absolute_error(y_train, dt_model.predict(X_train_scaled))\n",
        "mae_dt_test = mean_absolute_error(y_test, y_pred_dt)\n",
        "print(f'Mean Absolute Error for training (Decision Tree Regression): {mae_dt_train:2e}')\n",
        "print(f'Mean Absolute Error for testing (Decision Tree Regression): {mae_dt_test:2e}')\n",
        "print(20*'---')\n",
        "\n",
        "# Calculate Root Mean Squared Error (RMSE)\n",
        "rmse_dt_train = np.sqrt(mse_dt_train)\n",
        "rmse_dt_test = np.sqrt(mse_dt_test)\n",
        "print(f'Root Mean Squared Error for training (Decision Tree Regression): {rmse_dt_train:2e}')\n",
        "print(f'Root Mean Squared Error for testing (Decision Tree Regression): {rmse_dt_test:2e}')\n",
        "print(20*'---')\n",
        "\n",
        "# Calculate R-Squared Score\n",
        "r2_dt_train = r2_score(y_train, dt_model.predict(X_train_scaled))\n",
        "r2_dt_test = r2_score(y_test, y_pred_dt)\n",
        "print(f'R Square for training (Decision Tree Regression): {r2_dt_train}')\n",
        "print(f'R Square for testing (Decision Tree Regression): {r2_dt_test}')\n",
        "print(20*'---')\n",
        "\n",
        "# Scatter Plot between actual and predicted values\n",
        "plt.scatter(y_test, y_pred_dt, alpha=0.5)\n",
        "plt.plot([y_test.min(), y_test.max()], [y_test.min(), y_test.max()], color='red', lw=2)\n",
        "plt.xlabel('Real Values')\n",
        "plt.ylabel('Predictions')\n",
        "plt.title('Real Values vs Predictions (Decision Tree Regression)')\n",
        "plt.show()\n",
        "print(20*'---')\n",
        "\n",
        "# Error distribution\n",
        "sns.histplot((y_test - y_pred_dt), bins=50, kde=True)\n",
        "plt.title('Error Distribution (Decision Tree Regression)')\n",
        "plt.xlabel('Prediction Error')\n",
        "plt.ylabel('Frequency')\n",
        "plt.show()"
      ],
      "metadata": {
        "id": "Ob3WH8h-6SFN"
      },
      "id": "Ob3WH8h-6SFN",
      "execution_count": null,
      "outputs": []
    },
    {
      "cell_type": "markdown",
      "source": [
        "#### 5- Gradient Boosting Regression"
      ],
      "metadata": {
        "id": "VlX4Oxaf2Y3H"
      },
      "id": "VlX4Oxaf2Y3H"
    },
    {
      "cell_type": "code",
      "source": [
        "# Bulid the model\n",
        "gb_model = GradientBoostingRegressor(n_estimators=100, learning_rate=0.1, random_state=42)\n",
        "\n",
        "# Model training\n",
        "gb_model.fit(X_train_scaled, y_train)\n",
        "\n",
        "# Prediction on test data\n",
        "y_pred_gb = gb_model.predict(X_test_scaled)\n",
        "\n",
        "# Model Evaluation\n",
        "# Calculate Mean Squared Error (MSE)\n",
        "mse_gb_train = mean_squared_error(y_train, gb_model.predict(X_train_scaled))\n",
        "mse_gb_test = mean_squared_error(y_test, y_pred_gb)\n",
        "print(f'Mean Squared Error for training (Gradient Boosting Regression): {mse_gb_train:2e}')\n",
        "print(f'Mean Squared Error for testing (Gradient Boosting Regression): {mse_gb_test:2e}')\n",
        "print(20*'---')\n",
        "\n",
        "# Calculate Mean Absolute Error (MAE)\n",
        "mae_gb_train = mean_absolute_error(y_train, gb_model.predict(X_train_scaled))\n",
        "mae_gb_test = mean_absolute_error(y_test, y_pred_gb)\n",
        "print(f'Mean Absolute Error for training (Gradient Boosting Regression): {mae_gb_train:2e}')\n",
        "print(f'Mean Absolute Error for testing (Gradient Boosting Regression): {mae_gb_test:2e}')\n",
        "print(20*'---')\n",
        "\n",
        "# Calculate Root Mean Squared Error (RMSE)\n",
        "rmse_gb_train = np.sqrt(mse_gb_train)\n",
        "rmse_gb_test = np.sqrt(mse_gb_test)\n",
        "print(f'Root Mean Squared Error for training (Gradient Boosting Regression): {rmse_gb_train:2e}')\n",
        "print(f'Root Mean Squared Error for testing (Gradient Boosting Regression): {rmse_gb_test:2e}')\n",
        "print(20*'---')\n",
        "\n",
        "# Calculate R-Squared Score\n",
        "r2_gb_train = r2_score(y_train, gb_model.predict(X_train_scaled))\n",
        "r2_gb_test = r2_score(y_test, y_pred_gb)\n",
        "print(f'R Square for training (Gradient Boosting Regression): {r2_gb_train}')\n",
        "print(f'R Square for testing (Gradient Boosting Regression): {r2_gb_test}')\n",
        "print(20*'---')\n",
        "\n",
        "# Scatter Plot between actual values ​​and predictions\n",
        "plt.scatter(y_test, y_pred_gb, alpha=0.5)\n",
        "plt.plot([y_test.min(), y_test.max()], [y_test.min(), y_test.max()], color='red', lw=2)\n",
        "plt.xlabel('Real Values')\n",
        "plt.ylabel('Predictions')\n",
        "plt.title('Real Values vs Predictions (Gradient Boosting Regression)')\n",
        "plt.show()\n",
        "print(20*'---')\n",
        "\n",
        "# Error distribution\n",
        "sns.histplot((y_test - y_pred_gb), bins=50, kde=True)\n",
        "plt.title('Error Distribution (Gradient Boosting Regression)')\n",
        "plt.xlabel('Prediction Error')\n",
        "plt.ylabel('Frequency')\n",
        "plt.show()"
      ],
      "metadata": {
        "id": "krNBkGGX6wIr"
      },
      "id": "krNBkGGX6wIr",
      "execution_count": null,
      "outputs": []
    },
    {
      "cell_type": "markdown",
      "source": [
        "## **Best Model: Random Forest Regression**\n",
        "### **Reasons:**\n",
        "1. **Lowest Mean Squared Error (MSE) on test data** compared to other models.\n",
        "2. **Lowest Mean Absolute Error (MAE),** indicating more accurate predictions.\n",
        "3. **Lowest Root Mean Squared Error (RMSE),** reflecting good predictive performance.\n",
        "4. **High \\( R^2 \\) score (0.80 on test data),** meaning it explains a large portion of data variance.\n",
        "\n",
        "### **Why Not the Other Models?**\n",
        "1. **Polynomial Regression:**  \n",
        "   - Performs well but has a lower \\( R^2 \\) than Random Forest.\n",
        "   - Higher MSE and RMSE compared to Random Forest.\n",
        "\n",
        "2. **Decision Tree Regression:**  \n",
        "   - Suffers from **Overfitting** as \\( R^2 \\) on training is near 1, but much lower on testing (0.60).\n",
        "   - Poorer performance on test data compared to other models.\n",
        "\n",
        "3. **Gradient Boosting Regression:**  \n",
        "   - Close performance to Random Forest but slightly lower \\( R^2 \\).\n",
        "   - Higher RMSE and MAE than Random Forest.\n",
        "\n",
        "### **Conclusion:**\n",
        "**Random Forest Regression is the best choice as it balances accuracy and complexity while handling data robustly without severe overfitting like Decision Tree.**\n"
      ],
      "metadata": {
        "id": "ycHF-QN38Tgu"
      },
      "id": "ycHF-QN38Tgu"
    }
  ],
  "metadata": {
    "kernelspec": {
      "display_name": "DP",
      "language": "python",
      "name": "dp"
    },
    "language_info": {
      "codemirror_mode": {
        "name": "ipython",
        "version": 3
      },
      "file_extension": ".py",
      "mimetype": "text/x-python",
      "name": "python",
      "nbconvert_exporter": "python",
      "pygments_lexer": "ipython3",
      "version": "3.11.7"
    },
    "colab": {
      "provenance": [],
      "collapsed_sections": [
        "4818c876-173d-4e56-9e7d-b4334d2def25",
        "7fab0fe2-6624-4615-b9d8-3c3669056bf8",
        "bec3d183-bba0-4b12-b963-487daab1e876",
        "0f5e3a2a-bbb7-4d06-8220-c93277b70146",
        "c7724ac2-4ea2-4cf4-a9e0-e64368f87b92",
        "b40de63c-5a1d-49ed-a87e-c5229ee08bbe",
        "4e886ec7-388c-414b-ada7-803c2fb1f2cb",
        "vl7_5oXkaFCV",
        "inANoRnddSh0",
        "BeKxz3m-xfLN"
      ],
      "toc_visible": true
    }
  },
  "nbformat": 4,
  "nbformat_minor": 5
}